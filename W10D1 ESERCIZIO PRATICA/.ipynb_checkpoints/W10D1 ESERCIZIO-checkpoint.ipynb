{
 "cells": [
  {
   "cell_type": "raw",
   "id": "34615d00-09f7-4dbd-8b3b-1df96b279c64",
   "metadata": {},
   "source": [
    "ES.1 Esercizio Abbiamo una lista di liste: mat = [[0, 1, 2, 3, 4], [5, 6, 7, 8, 9], [10, 11, 12, 13, 14]] Che tipo di struttura dati o matematica potrebbe rappresentare? Notare che tutte le liste \"interne\" sono della stessa dimensione Come facciamo per accedere ad un elemento in particolare?"
   ]
  },
  {
   "cell_type": "code",
   "execution_count": 5,
   "id": "6e154667-1d40-46e1-a756-b724de2112d1",
   "metadata": {},
   "outputs": [],
   "source": [
    "mat = [[0, 1, 2, 3, 4],\n",
    "       [5, 6, 7, 8, 9],\n",
    "       [10, 11, 12, 13, 14]] # Dato di tipo tabellare"
   ]
  },
  {
   "cell_type": "code",
   "execution_count": 7,
   "id": "cb633b9d-bf59-47bc-bb14-ee6d790f071d",
   "metadata": {},
   "outputs": [
    {
     "data": {
      "text/plain": [
       "5"
      ]
     },
     "execution_count": 7,
     "metadata": {},
     "output_type": "execute_result"
    }
   ],
   "source": [
    "mat[1][0]"
   ]
  },
  {
   "cell_type": "raw",
   "id": "e06501a7-1e4d-47bc-abf0-8cee37334a11",
   "metadata": {},
   "source": [
    "ES.2 Esercizio Importiamo il modulo math e proviamo a usare le funzioni .sin() .cos() .factorial() e la variabile .pi la riconoscete?"
   ]
  },
  {
   "cell_type": "code",
   "execution_count": 17,
   "id": "a4a97f8f-c87d-4a81-ab59-717a10f39e65",
   "metadata": {
    "scrolled": true
   },
   "outputs": [],
   "source": [
    "import math"
   ]
  },
  {
   "cell_type": "code",
   "execution_count": 19,
   "id": "a88fc05f-d69f-4205-a8a7-e9824860a3bc",
   "metadata": {},
   "outputs": [
    {
     "data": {
      "text/plain": [
       "-0.9880316240928618"
      ]
     },
     "execution_count": 19,
     "metadata": {},
     "output_type": "execute_result"
    }
   ],
   "source": [
    "math.sin(30) # Lavora per radianti"
   ]
  },
  {
   "cell_type": "code",
   "execution_count": 23,
   "id": "4ca10023-3a27-41c0-91dc-ef0ca1a88f70",
   "metadata": {},
   "outputs": [
    {
     "name": "stdout",
     "output_type": "stream",
     "text": [
      "3.141592653589793\n",
      "180.0\n"
     ]
    }
   ],
   "source": [
    "print(math.pi)\n",
    "print(math.degrees(math.pi))"
   ]
  },
  {
   "cell_type": "raw",
   "id": "7d490e41-2753-4c96-b0cb-0e05d18d6d6e",
   "metadata": {},
   "source": [
    "ES.3 Esercizio Proviamo a eseguire math.degrees(math.pi) Qual è e cosa significa il risultato? Per saperne di più su questa funzione possiamo usare help(math.degrees)"
   ]
  },
  {
   "cell_type": "code",
   "execution_count": 21,
   "id": "c3c27128-82b8-4706-a1c6-7fca64b7febd",
   "metadata": {},
   "outputs": [
    {
     "data": {
      "text/plain": [
       "120"
      ]
     },
     "execution_count": 21,
     "metadata": {},
     "output_type": "execute_result"
    }
   ],
   "source": [
    "math.factorial(5)"
   ]
  },
  {
   "cell_type": "code",
   "execution_count": 25,
   "id": "0a73fded-66bc-4a22-853b-1e53ebf11ccc",
   "metadata": {},
   "outputs": [
    {
     "name": "stdout",
     "output_type": "stream",
     "text": [
      "Help on built-in function degrees in module math:\n",
      "\n",
      "degrees(x, /)\n",
      "    Convert angle x from radians to degrees.\n",
      "\n"
     ]
    }
   ],
   "source": [
    "help(math.degrees)"
   ]
  },
  {
   "cell_type": "raw",
   "id": "6833944c-a139-415c-bc7f-cd64ba23eee4",
   "metadata": {},
   "source": [
    "ES.4 Esercizio L'azienda Object SpA ha creato una lista di quanti oggetti ha venduto ogni mese nell'ultimo anno: lst = [2000, 5500, 7200, 4320, 1280, 1900, 2500, 3900, 6410, 8150, 7100, 5350] trasformiamola in un array NumPy (casting): lst = np.array(lst) e rispondiamo alle domande del CEO della Object SpA: • qual è stata la vendita massima mensile? E quella minima? • quali sono le vendite mensili maggiori di 5000 oggetti? E quante ne sono? • quali sono le vendite minori di 3000 oggetti? 5 • in media quanti oggetti sono stati venduti al mese?"
   ]
  },
  {
   "cell_type": "code",
   "execution_count": 29,
   "id": "cc151373-3408-4ca9-9269-d1c63c05cd74",
   "metadata": {},
   "outputs": [],
   "source": [
    "import numpy as np\n",
    "lst = [2000, 5500, 7200, 4320, 1280, 1900,\n",
    "       2500, 3900, 6410, 8150, 7100, 5350]\n",
    "lst = np.array(lst)"
   ]
  },
  {
   "cell_type": "code",
   "execution_count": 31,
   "id": "6ab949f6-ba41-4cc0-b98c-0230978f8d12",
   "metadata": {},
   "outputs": [
    {
     "name": "stdout",
     "output_type": "stream",
     "text": [
      "8150 1280\n"
     ]
    }
   ],
   "source": [
    "print(lst.max(), lst.min()) # Recuperare indice di un elemento di array"
   ]
  },
  {
   "cell_type": "code",
   "execution_count": 33,
   "id": "f33c0b2a-d0e4-4f78-bd34-243238e8eedd",
   "metadata": {},
   "outputs": [
    {
     "data": {
      "text/plain": [
       "9"
      ]
     },
     "execution_count": 33,
     "metadata": {},
     "output_type": "execute_result"
    }
   ],
   "source": [
    "np.where(lst == lst.max())[0][0] # Recuperare indice  di un elemento di un array"
   ]
  },
  {
   "cell_type": "code",
   "execution_count": 35,
   "id": "1fcd5fc2-332d-44ee-9378-fe3379df0397",
   "metadata": {},
   "outputs": [],
   "source": [
    "filtro = lst > 5000 # Vendite maggiori di 5000 e quante sono\n",
    "quary = lst[filtro] # Assegno ad una variabile "
   ]
  },
  {
   "cell_type": "code",
   "execution_count": 55,
   "id": "e2694c15-038c-44d0-ab6a-b66c21ef6d2c",
   "metadata": {},
   "outputs": [
    {
     "name": "stdout",
     "output_type": "stream",
     "text": [
      "[5500 7200 6410 8150 7100 5350]\n"
     ]
    },
    {
     "data": {
      "text/plain": [
       "6"
      ]
     },
     "execution_count": 55,
     "metadata": {},
     "output_type": "execute_result"
    }
   ],
   "source": [
    "print(quary)\n",
    "len(quary) # Stampo a video"
   ]
  },
  {
   "cell_type": "code",
   "execution_count": 43,
   "id": "a3299cfc-7228-47eb-b448-aa52cf0eb954",
   "metadata": {},
   "outputs": [],
   "source": [
    "filtro2 = lst < 3000\n",
    "quary2 = lst[filtro2]"
   ]
  },
  {
   "cell_type": "code",
   "execution_count": 57,
   "id": "6651a6ef-dd5a-4b50-b17c-de6d505be51f",
   "metadata": {},
   "outputs": [
    {
     "name": "stdout",
     "output_type": "stream",
     "text": [
      "[2000 1280 1900 2500]\n"
     ]
    },
    {
     "data": {
      "text/plain": [
       "4"
      ]
     },
     "execution_count": 57,
     "metadata": {},
     "output_type": "execute_result"
    }
   ],
   "source": [
    "print(quary2)\n",
    "len(quary2)"
   ]
  },
  {
   "cell_type": "code",
   "execution_count": 61,
   "id": "bbc116f7-109a-4cf2-b6da-a649d526a7e0",
   "metadata": {},
   "outputs": [
    {
     "name": "stdout",
     "output_type": "stream",
     "text": [
      "in media le vendite ogni mese sono state di 4634.17 unità\n"
     ]
    }
   ],
   "source": [
    "print('in media le vendite ogni mese sono state di', round (lst.mean(),2), 'unità')"
   ]
  },
  {
   "cell_type": "raw",
   "id": "d8329fce-e79e-4487-b410-b844a53616c3",
   "metadata": {},
   "source": [
    "ES.5 Esercizio Consideriamo il seguente dizionario: fatturati_dict = {1997: 12_000, 1998: 15_000, 1999: 20_000, 2000: 23_000, 2001: 25_000, 2002: 17_000, 2003: 14_000, 2004: 21_000} Consideriamo ora la seguente Series: fatturati_series = pd.Series([12_000, 15_000, 20_000, 23_000, 25_000, 17_000, 14_000, 21_000], index=range(1997, 2005)) Possiamo accedere alle stesse informazioni nello stesso modo: fatturati_dict[1997] fatturati_series[1997] Dunque qual è la differenza tra i due tipi di dato? 6 Cosa potremmo fare con la Series che non possiamo fare con il dizionario?"
   ]
  },
  {
   "cell_type": "code",
   "execution_count": 49,
   "id": "19075172-efc9-4076-81e1-e1fb22c4b6f0",
   "metadata": {},
   "outputs": [],
   "source": [
    "fatturati_dict = {1997: 12_000, 1998: 15_000, 1999: 20_000, 2000: 23_000, 2001: 25_000, 2002: 17_000, 2003: 14_000, 2004: 21_000}"
   ]
  },
  {
   "cell_type": "code",
   "execution_count": 65,
   "id": "1e5ac86b-a4bc-472d-bfee-05ffa07a3179",
   "metadata": {},
   "outputs": [],
   "source": [
    "import pandas as pd\n",
    "fatturati_series = pd.Series([12_000, 15_000, 20_000, 23_000, 25_000, 17_000, 14_000, 21_000], index=range(1997, 2005))"
   ]
  },
  {
   "cell_type": "code",
   "execution_count": 73,
   "id": "32be7898-5a30-4eb1-8bc6-2294efe0dbe0",
   "metadata": {},
   "outputs": [
    {
     "data": {
      "text/plain": [
       "1999    20000\n",
       "2000    23000\n",
       "2001    25000\n",
       "dtype: int64"
      ]
     },
     "execution_count": 73,
     "metadata": {},
     "output_type": "execute_result"
    }
   ],
   "source": [
    "fatturati_series.loc[1999:2001]"
   ]
  },
  {
   "cell_type": "code",
   "execution_count": 75,
   "id": "a851b621-917c-43ac-a0b4-00a157f89f4f",
   "metadata": {},
   "outputs": [
    {
     "data": {
      "text/plain": [
       "23000"
      ]
     },
     "execution_count": 75,
     "metadata": {},
     "output_type": "execute_result"
    }
   ],
   "source": [
    "fatturati_dict[2000]"
   ]
  },
  {
   "cell_type": "raw",
   "id": "7bcb5a59-0809-4618-8cab-1e334a9c6a74",
   "metadata": {},
   "source": [
    "ES.6 L'azienda Object SpA ha un dataset con tutti gli stipendi dei dipendenti, memorizzato in un ndarray: import numpy as np stipendi = np.array( [100, 200, 300, 400, 500, 600, 700, 800, 900, 1000] ) L'azienda ci chiede di raddoppiare tutti gli stipendi; facciamolo in due modi: • con un ciclo for"
   ]
  },
  {
   "cell_type": "code",
   "execution_count": 77,
   "id": "d5454bff-9d5e-4abf-a65a-fbaddf92f6c4",
   "metadata": {},
   "outputs": [],
   "source": [
    "import numpy as np\n",
    "stipendi = np.array( [100, 200, 300, 400, 500, 600, 700, 800, 900, 1000] )"
   ]
  },
  {
   "cell_type": "code",
   "execution_count": 92,
   "id": "596d0f79-5ad9-420f-b8ec-d4af969a9a6f",
   "metadata": {},
   "outputs": [
    {
     "name": "stdout",
     "output_type": "stream",
     "text": [
      "[200]\n",
      "[200, 400]\n",
      "[200, 400, 600]\n",
      "[200, 400, 600, 800]\n",
      "[200, 400, 600, 800, 1000]\n",
      "[200, 400, 600, 800, 1000, 1200]\n",
      "[200, 400, 600, 800, 1000, 1200, 1400]\n",
      "[200, 400, 600, 800, 1000, 1200, 1400, 1600]\n",
      "[200, 400, 600, 800, 1000, 1200, 1400, 1600, 1800]\n",
      "[200, 400, 600, 800, 1000, 1200, 1400, 1600, 1800, 2000]\n"
     ]
    }
   ],
   "source": [
    "stipendi_doppi = []\n",
    "for stipendio in stipendi:\n",
    "    stipendi_doppi.append( int( stipendio*2) )\n",
    "    print(stipendi_doppi)"
   ]
  },
  {
   "cell_type": "code",
   "execution_count": 100,
   "id": "4b195302-83db-44a2-9fd1-bac42be9afba",
   "metadata": {},
   "outputs": [
    {
     "name": "stdout",
     "output_type": "stream",
     "text": [
      "[ 200  400  600  800 1000 1200 1400 1600 1800 2000]\n"
     ]
    }
   ],
   "source": [
    "stipendi_doppi = stipendi * 2\n",
    "print(stipendi_doppi)"
   ]
  },
  {
   "cell_type": "raw",
   "id": "59efe26c-beb2-4ca2-bff7-c2fae06d024e",
   "metadata": {},
   "source": [
    "ES.7 Esercizio Scrivere un programma che, data una lista di numeri, fornisca in output i tre numeri più grandi; gestire il caso in cui la lista sia più corta di tre, e quando uno o più dei numeri selezionati sono uguali."
   ]
  },
  {
   "cell_type": "code",
   "execution_count": 117,
   "id": "7faa637d-4b54-4985-b325-bfe29af95c24",
   "metadata": {},
   "outputs": [
    {
     "name": "stdout",
     "output_type": "stream",
     "text": [
      "I massimi sono: [200, 77, 50]\n"
     ]
    }
   ],
   "source": [
    "numeri = [2, 7, 50, 4, 200, 32, 77, 200, 10, 200]\n",
    "\n",
    "lunghezza = len(numeri)\n",
    "\n",
    "if lunghezza <= 3:\n",
    "    print(\"I massimi sono:\", numeri)\n",
    "else:\n",
    "    numeri = set(numeri)  # elimino i duplicati\n",
    "    numeri = list(numeri)  # perché il set non è ordinato\n",
    "    numeri.sort(reverse=True)\n",
    "    print(\"I massimi sono:\", numeri[:3])"
   ]
  },
  {
   "cell_type": "code",
   "execution_count": 110,
   "id": "a1186ee0-0adb-4e14-80f0-7c885b819462",
   "metadata": {},
   "outputs": [
    {
     "name": "stdout",
     "output_type": "stream",
     "text": [
      "Help on built-in function sort:\n",
      "\n",
      "sort(*, key=None, reverse=False) method of builtins.list instance\n",
      "    Sort the list in ascending order and return None.\n",
      "\n",
      "    The sort is in-place (i.e. the list itself is modified) and stable (i.e. the\n",
      "    order of two equal elements is maintained).\n",
      "\n",
      "    If a key function is given, apply it once to each list item and sort them,\n",
      "    ascending or descending, according to their function values.\n",
      "\n",
      "    The reverse flag can be set to sort in descending order.\n",
      "\n"
     ]
    }
   ],
   "source": [
    "help(numeri.sort)"
   ]
  },
  {
   "cell_type": "raw",
   "id": "cdaaeecb-dca3-4b61-8142-421b46837e45",
   "metadata": {},
   "source": [
    "ES.8 Esercizio Scrivere un programma che • in input acquisisce una lista di numeri e un numero K • in output, dovrà restituire la media di tutti i numeri nella lista maggiori o uguali a K • se non ce ne dovesse essere nessuno, dovrà stampare a schermo un messaggio adeguato."
   ]
  },
  {
   "cell_type": "code",
   "execution_count": 123,
   "id": "6f8f312d-1c3d-4349-84c5-a0bfc9206721",
   "metadata": {},
   "outputs": [
    {
     "name": "stdout",
     "output_type": "stream",
     "text": [
      "La media dei numeri maggiori di 20 è 52.0\n"
     ]
    }
   ],
   "source": [
    "numeri = [30, 50, 10, 60, 20, 100]\n",
    "K = 20\n",
    "\n",
    "numeri = np.array(numeri)  # casting\n",
    "filtro = numeri >= K\n",
    "\n",
    "selezione = numeri[filtro]\n",
    "\n",
    "if len(selezione) > 0:\n",
    "    print( \"La media dei numeri maggiori di\", K, \"è\", selezione.mean() )\n",
    "else:\n",
    "    print( \"Non ci sono numeri maggiori di\", K )"
   ]
  },
  {
   "cell_type": "raw",
   "id": "657425bd-8009-4d7e-9593-d165537467d4",
   "metadata": {},
   "source": [
    "ES.9 Scrivere un programma che, data una lista di numeri, come output stamperà lo stesso numero di asterischi su righe diverse, ottenendo una semplice visualizzazione grafica Esempio, supponendo di avere il seguente input: numeri = [5, 2, 3, 4] L'output sarà: ***** ** *** ****"
   ]
  },
  {
   "cell_type": "code",
   "execution_count": 127,
   "id": "e1b2ec3a-f00b-4179-9750-3b0caa6e5742",
   "metadata": {},
   "outputs": [
    {
     "name": "stdout",
     "output_type": "stream",
     "text": [
      "*****\n",
      "**********\n",
      "****\n",
      "**\n",
      "************\n",
      "*******\n"
     ]
    }
   ],
   "source": [
    "numeri = [5, 10, 4, 2, 12, 7]\n",
    "\n",
    "for numero in numeri:\n",
    "    print(\"*\" * numero)"
   ]
  },
  {
   "cell_type": "raw",
   "id": "03135496-824b-4320-9c06-3b72757681aa",
   "metadata": {},
   "source": [
    "ES.10 Abbiamo una lista di codici fiscali: lista_cf = [\"ABCDEF95G01A123B\", \"GHIJKL91M02A321C\", \"MNOPQR89S03A456D\", \"STUVWX95Z04A654E\", \"XYZABC01D05A789F\", \"DEFGHI95J06A987G\"] • trovare i codici fiscali che contengono \"95\", metterli in una lista, e alla fine stamparla; • inoltre, per ognuno di essi, stampare a video i caratteri relativi al nome e quelli relativi al cognome."
   ]
  },
  {
   "cell_type": "code",
   "execution_count": 130,
   "id": "5b333a0a-e77c-4db1-b2eb-3abc09d771e2",
   "metadata": {},
   "outputs": [
    {
     "name": "stdout",
     "output_type": "stream",
     "text": [
      "ABCDEF95G01A123B ABC DEF\n",
      "STUVWX95Z04A654E STU VWX\n",
      "DEFGHI95J06A987G DEF GHI\n"
     ]
    }
   ],
   "source": [
    "lista_cf = [\"ABCDEF95G01A123B\", \"GHIJKL91M02A321C\", \"MNOPQR89S03A456D\", \n",
    "            \"STUVWX95Z04A654E\", \"XYZABC01D05A789F\", \"DEFGHI95J06A987G\"]\n",
    "\n",
    "for cf in lista_cf:\n",
    "    if \"95\" in cf:\n",
    "        print(cf, cf[:3], cf[3:6])"
   ]
  },
  {
   "cell_type": "raw",
   "id": "e1b9388d-8ae0-4220-be83-6b0a52063bae",
   "metadata": {},
   "source": [
    "ES.11 Abbiamo tre liste della stessa lunghezza, dove ogni elemento nella medesima posizione si riferisce ai dati dello stesso studente: studenti = [\"Alex\", \"Bob\", \"Cindy\", \"Dan\", \"Emma\", \"Faith\", \"Grace\", \"Henry\"] corsi = [\"Cybersecurity\", \"Data Analyst\", \"Backend\", \"Frontend\", \"Data Analyst\", \"Backend\", \"Frontend\", \"Cybersecurity\"] edizioni = [1, 2, 3, 2, 2, 1, 3, 3] • Stampare a video tutti e soli gli studenti che frequentano una prima edizione; non tutti i dati potrebbero essere necessari."
   ]
  },
  {
   "cell_type": "code",
   "execution_count": 135,
   "id": "79a96ed9-4620-4275-8fab-4bb4462699b7",
   "metadata": {},
   "outputs": [],
   "source": [
    "studenti = [\"Alex\", \"Bob\", \"Cindy\", \"Dan\", \"Emma\", \"Faith\", \"Grace\", \"Henry\"]\n",
    "corsi = [\"Cybersecurity\", \"Data Analyst\", \"Backend\", \"Frontend\", \"Data Analyst\", \"Backend\", \"Frontend\", \"Cybersecurity\"]\n",
    "edizioni = [1, 2, 3, 2, 2, 1, 3, 3]"
   ]
  },
  {
   "cell_type": "code",
   "execution_count": 145,
   "id": "cc83c02d-93a0-4459-8423-9fbb6e635f8f",
   "metadata": {},
   "outputs": [
    {
     "data": {
      "text/plain": [
       "[0, 1, 2, 3, 4, 5, 6, 7]"
      ]
     },
     "execution_count": 145,
     "metadata": {},
     "output_type": "execute_result"
    }
   ],
   "source": [
    "list( range(lunghezza) ) # Numeri progressivi"
   ]
  },
  {
   "cell_type": "code",
   "execution_count": 147,
   "id": "979f44a0-8bc3-4b0f-b26f-3418af33e1ef",
   "metadata": {},
   "outputs": [
    {
     "name": "stdout",
     "output_type": "stream",
     "text": [
      "Alex\n",
      "Faith\n"
     ]
    }
   ],
   "source": [
    "lunghezza = len(studenti)\n",
    "\n",
    "for indice in range(lunghezza):\n",
    "    studente = studenti[indice]\n",
    "    edizione = edizioni[indice]\n",
    "    if edizione == 1:\n",
    "        print(studente)"
   ]
  },
  {
   "cell_type": "code",
   "execution_count": 151,
   "id": "64940f48-7327-41dc-9919-45fccf80d07d",
   "metadata": {},
   "outputs": [
    {
     "data": {
      "text/html": [
       "<div>\n",
       "<style scoped>\n",
       "    .dataframe tbody tr th:only-of-type {\n",
       "        vertical-align: middle;\n",
       "    }\n",
       "\n",
       "    .dataframe tbody tr th {\n",
       "        vertical-align: top;\n",
       "    }\n",
       "\n",
       "    .dataframe thead th {\n",
       "        text-align: right;\n",
       "    }\n",
       "</style>\n",
       "<table border=\"1\" class=\"dataframe\">\n",
       "  <thead>\n",
       "    <tr style=\"text-align: right;\">\n",
       "      <th></th>\n",
       "      <th>studente</th>\n",
       "      <th>corso</th>\n",
       "      <th>edizione</th>\n",
       "    </tr>\n",
       "  </thead>\n",
       "  <tbody>\n",
       "    <tr>\n",
       "      <th>0</th>\n",
       "      <td>Alex</td>\n",
       "      <td>Cybersecurity</td>\n",
       "      <td>1</td>\n",
       "    </tr>\n",
       "    <tr>\n",
       "      <th>1</th>\n",
       "      <td>Bob</td>\n",
       "      <td>Data Analyst</td>\n",
       "      <td>2</td>\n",
       "    </tr>\n",
       "    <tr>\n",
       "      <th>2</th>\n",
       "      <td>Cindy</td>\n",
       "      <td>Backend</td>\n",
       "      <td>3</td>\n",
       "    </tr>\n",
       "    <tr>\n",
       "      <th>3</th>\n",
       "      <td>Dan</td>\n",
       "      <td>Frontend</td>\n",
       "      <td>2</td>\n",
       "    </tr>\n",
       "    <tr>\n",
       "      <th>4</th>\n",
       "      <td>Emma</td>\n",
       "      <td>Data Analyst</td>\n",
       "      <td>2</td>\n",
       "    </tr>\n",
       "    <tr>\n",
       "      <th>5</th>\n",
       "      <td>Faith</td>\n",
       "      <td>Backend</td>\n",
       "      <td>1</td>\n",
       "    </tr>\n",
       "    <tr>\n",
       "      <th>6</th>\n",
       "      <td>Grace</td>\n",
       "      <td>Frontend</td>\n",
       "      <td>3</td>\n",
       "    </tr>\n",
       "    <tr>\n",
       "      <th>7</th>\n",
       "      <td>Henry</td>\n",
       "      <td>Cybersecurity</td>\n",
       "      <td>3</td>\n",
       "    </tr>\n",
       "  </tbody>\n",
       "</table>\n",
       "</div>"
      ],
      "text/plain": [
       "  studente          corso  edizione\n",
       "0     Alex  Cybersecurity         1\n",
       "1      Bob   Data Analyst         2\n",
       "2    Cindy        Backend         3\n",
       "3      Dan       Frontend         2\n",
       "4     Emma   Data Analyst         2\n",
       "5    Faith        Backend         1\n",
       "6    Grace       Frontend         3\n",
       "7    Henry  Cybersecurity         3"
      ]
     },
     "execution_count": 151,
     "metadata": {},
     "output_type": "execute_result"
    }
   ],
   "source": [
    "df = pd.DataFrame( {\"studente\": studenti, \"corso\": corsi, \"edizione\": edizioni} )\n",
    "df"
   ]
  },
  {
   "cell_type": "code",
   "execution_count": 154,
   "id": "de68bf41-8a06-4dc6-9a8d-ad5e16db3465",
   "metadata": {},
   "outputs": [
    {
     "name": "stdout",
     "output_type": "stream",
     "text": [
      "[['Alex' 'Cybersecurity' 1]\n",
      " ['Bob' 'Data Analyst' 2]\n",
      " ['Cindy' 'Backend' 3]\n",
      " ['Dan' 'Frontend' 2]\n",
      " ['Emma' 'Data Analyst' 2]\n",
      " ['Faith' 'Backend' 1]\n",
      " ['Grace' 'Frontend' 3]\n",
      " ['Henry' 'Cybersecurity' 3]]\n"
     ]
    }
   ],
   "source": [
    "print( df.values )"
   ]
  },
  {
   "cell_type": "raw",
   "id": "3fbda0b3-e0e1-4b42-89b0-97c18a1ed6dd",
   "metadata": {},
   "source": [
    "ES.12 Abbiamo una lista di stringhe di prezzi in dollari, che erroneamente sono stati scritti con il simbolo dell'euro: prezzi = [\"100 €\", \"200 €\", \"500 €\", \"10 €\", \"50 €\", \"70 €\"] cambiare il simbolo dell'euro (€) in quello del dollaro ($) per ogni stringa nella lista; il risultato sarà memorizzato in un'altra lista."
   ]
  },
  {
   "cell_type": "code",
   "execution_count": 157,
   "id": "a7076e49-27a6-49c6-997a-bc252795d76b",
   "metadata": {},
   "outputs": [
    {
     "name": "stdout",
     "output_type": "stream",
     "text": [
      "['100 $', '200 $', '500 $', '10 $', '50 $', '70 $']\n"
     ]
    }
   ],
   "source": [
    "prezzi = [\"100 €\", \"200 €\", \"500 €\", \"10 €\", \"50 €\", \"70 €\"]\n",
    "nuovi_prezzi = []\n",
    "\n",
    "for prezzo in prezzi:\n",
    "    nuovo_prezzo = prezzo.replace(\"€\", \"$\")\n",
    "    nuovi_prezzi.append(nuovo_prezzo)\n",
    "    \n",
    "print(nuovi_prezzi)"
   ]
  },
  {
   "cell_type": "raw",
   "id": "a2b5dad9-8d98-429f-899c-d71eb778ad72",
   "metadata": {},
   "source": [
    "ES.12 Abbiamo una lista di studenti: studenti = [\"Alex\", \"Bob\", \"Cindy\", \"Dan\", \"Emma\", \"Faith\", \"Grace\", \"Henry\", \"Isabelle\", \"John\"] vogliamo dividere gli studenti in due squadre per un campionato di Uno nel seguente modo: selezioneremo i nomi in posizione pari per un squadra, e i nomi in posizione dispari per l'altra. Creiamo due liste per ogni squadra, e alla fine visualizziamole."
   ]
  },
  {
   "cell_type": "code",
   "execution_count": 160,
   "id": "5c2f2722-f357-4b44-bd91-7b0a43bc7c54",
   "metadata": {},
   "outputs": [],
   "source": [
    "studenti = [\"Alex\", \"Bob\", \"Cindy\", \"Dan\", \"Emma\", \"Faith\", \"Grace\", \"Henry\", \"Isabelle\", \"John\"]"
   ]
  },
  {
   "cell_type": "code",
   "execution_count": 163,
   "id": "3efe0e00-5abe-4ce6-a061-fe4502ce8639",
   "metadata": {},
   "outputs": [
    {
     "data": {
      "text/plain": [
       "['Alex', 'Cindy', 'Emma', 'Grace', 'Isabelle']"
      ]
     },
     "execution_count": 163,
     "metadata": {},
     "output_type": "execute_result"
    }
   ],
   "source": [
    "studenti[::2]"
   ]
  },
  {
   "cell_type": "raw",
   "id": "923a68d9-392a-4539-9d7c-a91f49c7b82e",
   "metadata": {},
   "source": [
    "ES.13 Esercizio Abbiamo una lista con i guadagni degli ultimi 12 mesi (supponiamo da Gennaio a Dicembre): guadagni = [100, 90, 70, 40, 50, 80, 90, 120, 80, 20, 50, 50] dobbiamo confrontare, stampando tutto a video, il guadagno di ogni mese con la media dei guadagni precedenti, e specificare nell'output se il guadagno attuale è maggiore o minore della media dei precedenti. Esempio di un possibile output: Mese 1: 100 € Mese 2: 90 € (media prec: 100 € - il guadagno attuale è minore) Mese 3: 70 € (media prec: 95 € - il guadagno attuale è minore)"
   ]
  },
  {
   "cell_type": "code",
   "execution_count": 167,
   "id": "aa6f9ccd-4e99-4e91-a838-32b683c449d0",
   "metadata": {},
   "outputs": [
    {
     "name": "stdout",
     "output_type": "stream",
     "text": [
      "Mese 1: 100 €\n",
      "Mese 2: 90 € (media prec: 100.0 € - minore)\n",
      "Mese 3: 70 € (media prec: 95.0 € - minore)\n",
      "Mese 4: 40 € (media prec: 86.66666666666667 € - minore)\n",
      "Mese 5: 50 € (media prec: 75.0 € - minore)\n",
      "Mese 6: 80 € (media prec: 70.0 € - maggiore)\n",
      "Mese 7: 90 € (media prec: 71.66666666666667 € - maggiore)\n",
      "Mese 8: 120 € (media prec: 74.28571428571429 € - maggiore)\n",
      "Mese 9: 80 € (media prec: 80.0 € - maggiore)\n",
      "Mese 10: 20 € (media prec: 80.0 € - minore)\n",
      "Mese 11: 50 € (media prec: 74.0 € - minore)\n",
      "Mese 12: 50 € (media prec: 71.81818181818181 € - minore)\n"
     ]
    }
   ],
   "source": [
    "guadagni = [100, 90, 70, 40, 50, 80, 90, 120, 80, 20, 50, 50]\n",
    "conteggio = 1\n",
    "somma = 0\n",
    "\n",
    "for guadagno in guadagni:\n",
    "    if conteggio == 1:\n",
    "        print(f\"Mese {conteggio}: {guadagno} €\")\n",
    "    else:\n",
    "        if guadagno < media:\n",
    "            print(f\"Mese {conteggio}: {guadagno} € (media prec: {media} € - minore)\")\n",
    "        else:\n",
    "            print(f\"Mese {conteggio}: {guadagno} € (media prec: {media} € - maggiore)\")\n",
    "    somma += guadagno\n",
    "    media = somma / conteggio\n",
    "    conteggio += 1"
   ]
  }
 ],
 "metadata": {
  "kernelspec": {
   "display_name": "Python [conda env:base] *",
   "language": "python",
   "name": "conda-base-py"
  },
  "language_info": {
   "codemirror_mode": {
    "name": "ipython",
    "version": 3
   },
   "file_extension": ".py",
   "mimetype": "text/x-python",
   "name": "python",
   "nbconvert_exporter": "python",
   "pygments_lexer": "ipython3",
   "version": "3.12.7"
  }
 },
 "nbformat": 4,
 "nbformat_minor": 5
}
