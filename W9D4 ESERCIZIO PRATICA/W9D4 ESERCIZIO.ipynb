{
 "cells": [
  {
   "cell_type": "raw",
   "id": "b526ed5d-3f38-434f-bf49-f18e27fc5809",
   "metadata": {},
   "source": [
    "ES.1 Abbiamo la stringa: nome_scuola = \"Epicode\" Stampare ogni carattere della stringa, uno su ogni riga, utilizzando un costrutto while."
   ]
  },
  {
   "cell_type": "code",
   "execution_count": 3,
   "id": "0fd98ebf-d36c-4c18-90d9-12a92848c8f5",
   "metadata": {},
   "outputs": [],
   "source": [
    "nome_scuola = \"Epicode\"\n",
    "lettera = 0"
   ]
  },
  {
   "cell_type": "code",
   "execution_count": 5,
   "id": "c3e462dd-fc11-40b5-9840-c2549f0fd54e",
   "metadata": {},
   "outputs": [
    {
     "name": "stdout",
     "output_type": "stream",
     "text": [
      "E\n",
      "p\n",
      "i\n",
      "c\n",
      "o\n",
      "d\n",
      "e\n"
     ]
    }
   ],
   "source": [
    "while lettera < len(nome_scuola):\n",
    "    print(nome_scuola[lettera])\n",
    "    lettera += 1"
   ]
  },
  {
   "cell_type": "raw",
   "id": "a8245bac-a9ed-4278-913a-4fa19ab0327d",
   "metadata": {},
   "source": [
    "ES.2 Stampare a video tutti i numeri da 0 a 20 utilizzando il costrutto while. Utilizzeremo: • un ciclo while • la funzione print() • una variabile, che dovrà essere inizializzata • una procedura di incremento"
   ]
  },
  {
   "cell_type": "code",
   "execution_count": 11,
   "id": "fbc5047a-c2c2-480d-8b69-f04512084164",
   "metadata": {},
   "outputs": [
    {
     "name": "stdout",
     "output_type": "stream",
     "text": [
      "0\n",
      "1\n",
      "2\n",
      "3\n",
      "4\n",
      "5\n",
      "6\n",
      "7\n",
      "8\n",
      "9\n",
      "10\n",
      "11\n",
      "12\n",
      "13\n",
      "14\n",
      "15\n",
      "16\n",
      "17\n",
      "18\n",
      "19\n",
      "20\n"
     ]
    }
   ],
   "source": [
    "numero = -1 # inizializzazione della variabile\n",
    "while numero < 20:  # condizione del ciclo\n",
    "    numero += 1 # incremento\n",
    "    print(numero)    # stampa il valore attuale"
   ]
  },
  {
   "cell_type": "raw",
   "id": "3358ea6d-e2b8-4644-a381-2cfa27178607",
   "metadata": {},
   "source": [
    "ES.3 Calcolare e stampare tutte le prime 10 potenze di 2 (e.g., 2⁰, 2¹, 2², …) utilizzando un ciclo while."
   ]
  },
  {
   "cell_type": "code",
   "execution_count": 13,
   "id": "67fb949d-7c62-487a-9dee-37accbfb0a30",
   "metadata": {},
   "outputs": [
    {
     "name": "stdout",
     "output_type": "stream",
     "text": [
      "1\n",
      "2\n",
      "4\n",
      "8\n",
      "16\n",
      "32\n",
      "64\n",
      "128\n",
      "256\n",
      "512\n"
     ]
    }
   ],
   "source": [
    "numero = 0  # inizializzazione dell'esponente\n",
    "\n",
    "while numero < 10:  # condizione: fino a 2^9\n",
    "    print(2 ** numero)  # calcola e stampa 2 elevato all'esponente\n",
    "    numero += 1  # incremento dell'esponente"
   ]
  },
  {
   "cell_type": "raw",
   "id": "25ac94bf-9bee-4cf7-9f6c-e6e44bf88e0d",
   "metadata": {},
   "source": [
    "ES.4 Calcolare e stampare tutte le prime N potenze di 2 utilizzando un ciclo while, domandando all'utente di inserire N."
   ]
  },
  {
   "cell_type": "code",
   "execution_count": 31,
   "id": "0d57d7a2-c757-469e-a9ee-a2abc3caf247",
   "metadata": {},
   "outputs": [
    {
     "name": "stdin",
     "output_type": "stream",
     "text": [
      "potenze di 2:  5\n"
     ]
    },
    {
     "name": "stdout",
     "output_type": "stream",
     "text": [
      "2 elevato a 0 = 1\n",
      "2 elevato a 1 = 2\n",
      "2 elevato a 2 = 4\n",
      "2 elevato a 3 = 8\n",
      "2 elevato a 4 = 16\n"
     ]
    }
   ],
   "source": [
    "potenza = int(input('potenze di 2: ')) # inizializzazione\n",
    "num_potenza = 0\n",
    "while num_potenza < potenza:\n",
    "    calcolo_potenza = 2 ** num_potenza\n",
    "    print(f'2 elevato a {num_potenza} = {calcolo_potenza}')\n",
    "    num_potenza +=1 # incremento"
   ]
  },
  {
   "cell_type": "raw",
   "id": "53ca93ab-40c0-46db-9487-e24a2b38a7fe",
   "metadata": {},
   "source": [
    "ES.5 Calcolare e stampare tutte le potenze di 2 minori di 25000."
   ]
  },
  {
   "cell_type": "code",
   "execution_count": 33,
   "id": "8bba50b0-4578-48c0-8ef3-76a58194e72f",
   "metadata": {},
   "outputs": [
    {
     "name": "stdout",
     "output_type": "stream",
     "text": [
      "1\n",
      "2\n",
      "4\n",
      "8\n",
      "16\n",
      "32\n",
      "64\n",
      "128\n",
      "256\n",
      "512\n",
      "1024\n",
      "2048\n",
      "4096\n",
      "8192\n",
      "16384\n"
     ]
    }
   ],
   "source": [
    "potenza = 1\n",
    "\n",
    "while potenza < 25000:\n",
    "    print(potenza)\n",
    "    potenza *= 2  # moltiplichiamo per 2 ad ogni iterazione"
   ]
  },
  {
   "cell_type": "raw",
   "id": "390b5142-21a1-40c8-9ba0-ac708561b2df",
   "metadata": {},
   "source": [
    "ES.6 Scriviamo un programma che chiede in input all'utente una stringa e visualizza i primi 3 caratteri, seguiti da 3 punti di sospensione e quindi gli ultimi 3 caratteri, similmente all'esercizio della lezione scorsa. Stavolta facciamo attenzione a tutti i casi particolari, ovvero implementare soluzioni ad hoc per stringhe di lunghezza inferiore a 6 caratteri."
   ]
  },
  {
   "cell_type": "code",
   "execution_count": 35,
   "id": "d3f0196e-cb6b-4571-8ad9-aabc6411668a",
   "metadata": {},
   "outputs": [
    {
     "name": "stdin",
     "output_type": "stream",
     "text": [
      "Inserisci una stringa:  ciao\n"
     ]
    },
    {
     "name": "stdout",
     "output_type": "stream",
     "text": [
      "c...o\n"
     ]
    }
   ],
   "source": [
    "testo = input(\"Inserisci una stringa: \")\n",
    "lunghezza = len(testo)\n",
    "if lunghezza < 3:\n",
    "    # Stringa troppo corta per fare qualsiasi elaborazione\n",
    "    print(testo)\n",
    "elif lunghezza < 6:\n",
    "    # Stringa tra 3 e 5 caratteri: stampiamo i primi e ultimi caratteri disponibili\n",
    "    print(testo[:1] + \"...\" + testo[-1:])\n",
    "else:\n",
    "    # Stringa di almeno 6 caratteri: stampiamo i primi 3, ..., ultimi 3\n",
    "    print(testo[:3] + \"...\" + testo[-3:])"
   ]
  },
  {
   "cell_type": "raw",
   "id": "d0d432e8-7781-4712-895b-3039e90b7fef",
   "metadata": {},
   "source": [
    "ES.7 Memorizza e stampa tutti i fattori di un numero dato in input (cioè tutti i numeri primi che, moltiplicati tra di loro, danno il numero di partenza). Esempio: • input: 150 • output: [2, 3, 5, 5]"
   ]
  },
  {
   "cell_type": "code",
   "execution_count": 29,
   "id": "3ce7db1d-447a-4a92-880b-835eca558c76",
   "metadata": {},
   "outputs": [
    {
     "name": "stdin",
     "output_type": "stream",
     "text": [
      "Inserisci un numero:  150\n"
     ]
    },
    {
     "name": "stdout",
     "output_type": "stream",
     "text": [
      "Fattori primi: [2, 3, 5, 5]\n"
     ]
    }
   ],
   "source": [
    "numero = int(input(\"Inserisci un numero: \"))\n",
    "fattori = []\n",
    "divisore = 2\n",
    "\n",
    "while numero > 1:\n",
    "    if numero % divisore == 0:\n",
    "        fattori.append(divisore)\n",
    "        numero //= divisore  # dividiamo il numero per il divisore trovato\n",
    "    else:\n",
    "        divisore += 1  # passiamo al numero successivo\n",
    "\n",
    "print(\"Fattori primi:\", fattori)"
   ]
  },
  {
   "cell_type": "raw",
   "id": "f8289cda-7909-45b2-9f7e-8a815db29616",
   "metadata": {},
   "source": [
    "ES.8 Esercizio Abbiamo la stringa: nome_scuola = \"Epicode\" Stampare ogni carattere della stringa, uno su ogni riga, utilizzando un costrutto for."
   ]
  },
  {
   "cell_type": "code",
   "execution_count": 31,
   "id": "1de00e16-5fe9-447b-92e3-aa074c64338a",
   "metadata": {},
   "outputs": [
    {
     "name": "stdout",
     "output_type": "stream",
     "text": [
      "E\n",
      "p\n",
      "i\n",
      "c\n",
      "o\n",
      "d\n",
      "e\n"
     ]
    }
   ],
   "source": [
    "nome_scuola = \"Epicode\"\n",
    "\n",
    "for carattere in nome_scuola:\n",
    "    print(carattere)"
   ]
  },
  {
   "cell_type": "raw",
   "id": "38a1d1b8-fae7-439d-a596-8a6da55d5d0a",
   "metadata": {},
   "source": [
    "ES.9 Calcolare e stampare tutte le prime 10 potenze di 2 utilizzando un ciclo. Per eseguire un certo numero di volte un ciclo si può utilizzare la funzione built-in range(), ad esempio: for numero in range(5): print(numero) 0 1 2 3 4"
   ]
  },
  {
   "cell_type": "code",
   "execution_count": 33,
   "id": "76cf5b9b-cde3-4768-b329-765273b447a8",
   "metadata": {},
   "outputs": [
    {
     "name": "stdout",
     "output_type": "stream",
     "text": [
      "1\n",
      "2\n",
      "4\n",
      "8\n",
      "16\n",
      "32\n",
      "64\n",
      "128\n",
      "256\n",
      "512\n"
     ]
    }
   ],
   "source": [
    "for esponente in range(10):\n",
    "    print(2 ** esponente)"
   ]
  },
  {
   "cell_type": "raw",
   "id": "23b0bdb8-f96c-44ef-bd32-a346d19dee86",
   "metadata": {},
   "source": [
    "ES.10 Calcolare (ma non stampare) le prime N potenze di K; ognuna di esse andrà memorizzata in coda a una lista. Alla fine, stampare la lista risultante. Proviamo con diversi valori di K, oppure facciamola inserire all'utente. Realizzare due versioni: • con un ciclo while, • con un ciclo for."
   ]
  },
  {
   "cell_type": "code",
   "execution_count": 43,
   "id": "68f532e5-5a39-4020-9b18-78f8e9642094",
   "metadata": {},
   "outputs": [
    {
     "name": "stdin",
     "output_type": "stream",
     "text": [
      "Inserisci la base (K):  3\n",
      "Inserisci quante potenze calcolare (N):  5\n"
     ]
    },
    {
     "name": "stdout",
     "output_type": "stream",
     "text": [
      "Lista delle potenze: [1, 3, 9, 27, 81]\n"
     ]
    }
   ],
   "source": [
    "K = int(input(\"Inserisci la base (K): \"))\n",
    "N = int(input(\"Inserisci quante potenze calcolare (N): \"))\n",
    "potenze = []\n",
    "esponente = 0\n",
    "\n",
    "while esponente < N:\n",
    "    potenze.append(K ** esponente)\n",
    "    esponente += 1\n",
    "\n",
    "print(\"Lista delle potenze:\", potenze)"
   ]
  },
  {
   "cell_type": "code",
   "execution_count": 41,
   "id": "7cdd1695-6a05-4096-ab64-b97db9bc042d",
   "metadata": {},
   "outputs": [
    {
     "name": "stdin",
     "output_type": "stream",
     "text": [
      "Inserisci la base (K):  3\n",
      "Inserisci quante potenze calcolare (N):  5\n"
     ]
    },
    {
     "name": "stdout",
     "output_type": "stream",
     "text": [
      "Lista delle potenze: [1, 3, 9, 27, 81]\n"
     ]
    }
   ],
   "source": [
    "K = int(input(\"Inserisci la base (K): \"))\n",
    "N = int(input(\"Inserisci quante potenze calcolare (N): \"))\n",
    "potenze = []\n",
    "\n",
    "for esponente in range(N):\n",
    "    potenze.append(K ** esponente)\n",
    "\n",
    "print(\"Lista delle potenze:\", potenze)"
   ]
  },
  {
   "cell_type": "raw",
   "id": "69e7bc75-42cf-4a81-ac9b-24b9a81f3c72",
   "metadata": {},
   "source": [
    "ES.11 Esercizio Abbiamo una lista con i guadagni degli ultimi 12 mesi: guadagni = [100, 90, 70, 40, 50, 80, 90, 120, 80, 20, 50, 50] usando un costrutto for, calcolare la media dei guadagni e stamparla a video."
   ]
  },
  {
   "cell_type": "code",
   "execution_count": 39,
   "id": "85d65c02-bd82-40ee-8a5c-039bf4cb1451",
   "metadata": {},
   "outputs": [
    {
     "name": "stdout",
     "output_type": "stream",
     "text": [
      "La media dei guadagni è: 70.0\n"
     ]
    }
   ],
   "source": [
    "guadagni = [100, 90, 70, 40, 50, 80, 90, 120, 80, 20, 50, 50]\n",
    "somma = 0\n",
    "for guadagno in guadagni:\n",
    "    somma += guadagno\n",
    "\n",
    "media = somma / len(guadagni)\n",
    "\n",
    "print(\"La media dei guadagni è:\", media)"
   ]
  },
  {
   "cell_type": "raw",
   "id": "2ac45a88-7c0e-48e3-a736-6591de96e374",
   "metadata": {},
   "source": [
    "ES.12 Abbiamo una lista di parole: parole = [\"Albergo\", \"Sedia\", \"Borgo\", \"Petalo\", \"Eremo\", \"Belvedere\", \"Semestre\", \"Esteta\", \"Sosta\", \"Orpello\", \"Abete\", \"Orologio\", \"Cesta\", \"Ermellino\"] stampiamo, per ogni parola, quante volte appare la lettera \"e\"; facciamo attenzione al fatto che appare sia maiuscola che minuscola."
   ]
  },
  {
   "cell_type": "code",
   "execution_count": 45,
   "id": "0437f5d6-934d-450d-be42-ca6f0d6f3c48",
   "metadata": {},
   "outputs": [
    {
     "name": "stdout",
     "output_type": "stream",
     "text": [
      "Nella parola 'Albergo' la lettera 'e' appare 1 volte.\n",
      "Nella parola 'Sedia' la lettera 'e' appare 1 volte.\n",
      "Nella parola 'Borgo' la lettera 'e' appare 0 volte.\n",
      "Nella parola 'Petalo' la lettera 'e' appare 1 volte.\n",
      "Nella parola 'Eremo' la lettera 'e' appare 2 volte.\n",
      "Nella parola 'Belvedere' la lettera 'e' appare 4 volte.\n",
      "Nella parola 'Semestre' la lettera 'e' appare 3 volte.\n",
      "Nella parola 'Esteta' la lettera 'e' appare 2 volte.\n",
      "Nella parola 'Sosta' la lettera 'e' appare 0 volte.\n",
      "Nella parola 'Orpello' la lettera 'e' appare 1 volte.\n",
      "Nella parola 'Abete' la lettera 'e' appare 2 volte.\n",
      "Nella parola 'Orologio' la lettera 'e' appare 0 volte.\n",
      "Nella parola 'Cesta' la lettera 'e' appare 1 volte.\n",
      "Nella parola 'Ermellino' la lettera 'e' appare 2 volte.\n"
     ]
    }
   ],
   "source": [
    "parole = [\"Albergo\", \"Sedia\", \"Borgo\", \"Petalo\", \"Eremo\", \"Belvedere\", \"Semestre\",\"Esteta\", \"Sosta\", \"Orpello\", \"Abete\", \"Orologio\", \"Cesta\", \"Ermellino\"]\n",
    "for parola in parole:\n",
    "    conteggio_e = parola.lower().count('e')\n",
    "    print(f\"Nella parola '{parola}' la lettera 'e' appare {conteggio_e} volte.\")"
   ]
  },
  {
   "cell_type": "raw",
   "id": "f3ce213f-4d2b-4309-ba78-7d7af90aaaec",
   "metadata": {},
   "source": [
    "ES.13 Esercizio Creiamo un dizionario che assegni ad ogni proprietario la sua auto, sapendo che: • Ada guida una Punto • Ben guida una Multipla • Charlie guida una Golf • Debbie guida una 107 Stampiamo il dizionario per intero, e poi l'auto associata a Debbie."
   ]
  },
  {
   "cell_type": "code",
   "execution_count": 47,
   "id": "1c986d18-9313-401a-bc45-8e73f37233df",
   "metadata": {},
   "outputs": [
    {
     "name": "stdout",
     "output_type": "stream",
     "text": [
      "Dizionario completo: {'Ada': 'Punto', 'Ben': 'Multipla', 'Charlie': 'Golf', 'Debbie': '107'}\n",
      "L'auto di Debbie è: 107\n"
     ]
    }
   ],
   "source": [
    "# Creazione del dizionario\n",
    "auto = {\"Ada\": \"Punto\",\n",
    "    \"Ben\": \"Multipla\",\n",
    "    \"Charlie\": \"Golf\",\n",
    "    \"Debbie\": \"107\"}\n",
    "\n",
    "# Stampa del dizionario completo\n",
    "print(\"Dizionario completo:\", auto)\n",
    "\n",
    "# Stampa dell'auto associata a Debbie\n",
    "print(\"L'auto di Debbie è:\", auto[\"Debbie\"])"
   ]
  },
  {
   "cell_type": "raw",
   "id": "febc44cc-9835-4cc3-9d28-a6699e763459",
   "metadata": {},
   "source": [
    "ES.14 Esercizio Abbiamo un dizionario che assegna ad ogni proprietario la sua auto: dizionario_auto = {\"Ada\": \"Punto\", \"Ben\": \"Multipla\", \"Charlie\": \"Golf\", \"Debbie\": \"107\"} Con un ciclo, e usando il metodo .values(), stampiamo a video tutte le auto che non sono una Multipla"
   ]
  },
  {
   "cell_type": "code",
   "execution_count": 49,
   "id": "436a274c-2c36-4711-aacc-22189044a5a1",
   "metadata": {},
   "outputs": [
    {
     "name": "stdout",
     "output_type": "stream",
     "text": [
      "Punto\n",
      "Golf\n",
      "107\n"
     ]
    }
   ],
   "source": [
    "dizionario_auto = {\"Ada\": \"Punto\", \"Ben\": \"Multipla\", \"Charlie\": \"Golf\", \"Debbie\": \"107\"}\n",
    "for auto in dizionario_auto.values():\n",
    "    if auto != \"Multipla\":\n",
    "        print(auto)"
   ]
  },
  {
   "cell_type": "raw",
   "id": "49a6f1b5-5f5e-4f88-a2b4-2b05a3567687",
   "metadata": {},
   "source": [
    "ES.15 Abbiamo due dizionari che assegnano ad ogni proprietario la propria auto: dizionario_auto = {\"Ada\": \"Punto\", \"Ben\": \"Multipla\", \"Charlie\": \"Golf\", \"Debbie\": \"107\", \"Emily\": \"A1\"} nuovi_proprietari = {\"Ben\": \"Polo\", \"Fred\": \"Octavia\", \"Grace\": \"Yaris\", \"Hugh\": \"Clio\"} Aggiornare il dizionario dizionario_auto con i dati contenuti in nuovi_proprietari e stamparlo. Cosa è successo a Ben?"
   ]
  },
  {
   "cell_type": "code",
   "execution_count": 51,
   "id": "923a1322-5fb9-4862-a2cb-c19332e862ce",
   "metadata": {},
   "outputs": [
    {
     "name": "stdout",
     "output_type": "stream",
     "text": [
      "{'Ada': 'Punto', 'Ben': 'Polo', 'Charlie': 'Golf', 'Debbie': '107', 'Emily': 'A1', 'Fred': 'Octavia', 'Grace': 'Yaris', 'Hugh': 'Clio'}\n"
     ]
    }
   ],
   "source": [
    "dizionario_auto = {\"Ada\": \"Punto\", \"Ben\": \"Multipla\", \"Charlie\": \"Golf\", \"Debbie\": \"107\", \"Emily\": \"A1\"}\n",
    "nuovi_proprietari = {\"Ben\": \"Polo\", \"Fred\": \"Octavia\", \"Grace\": \"Yaris\", \"Hugh\": \"Clio\"}\n",
    "\n",
    "# Aggiorniamo il dizionario dizionario_auto con i nuovi dati\n",
    "dizionario_auto.update(nuovi_proprietari)\n",
    "\n",
    "# Stampa del dizionario aggiornato\n",
    "print(dizionario_auto)"
   ]
  },
  {
   "cell_type": "code",
   "execution_count": null,
   "id": "2a331156-e6b7-4586-83b1-e3572bd338c7",
   "metadata": {},
   "outputs": [],
   "source": []
  }
 ],
 "metadata": {
  "kernelspec": {
   "display_name": "Python [conda env:base] *",
   "language": "python",
   "name": "conda-base-py"
  },
  "language_info": {
   "codemirror_mode": {
    "name": "ipython",
    "version": 3
   },
   "file_extension": ".py",
   "mimetype": "text/x-python",
   "name": "python",
   "nbconvert_exporter": "python",
   "pygments_lexer": "ipython3",
   "version": "3.12.7"
  }
 },
 "nbformat": 4,
 "nbformat_minor": 5
}
