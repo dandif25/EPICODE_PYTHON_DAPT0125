{
 "cells": [
  {
   "cell_type": "code",
   "execution_count": 9,
   "id": "e5264421-24ec-4c43-8459-c547875f8b35",
   "metadata": {},
   "outputs": [
    {
     "name": "stdout",
     "output_type": "stream",
     "text": [
      "25\n"
     ]
    }
   ],
   "source": [
    "# ES.1 Esercizio Abbiamo 25 studenti; memorizzare questo dato in una variabile e stamparla a video.\n",
    "Studenti = 25\n",
    "print(Studenti)"
   ]
  },
  {
   "cell_type": "code",
   "execution_count": 17,
   "id": "24f458b0-5d65-45f4-948f-9ce9e27b765c",
   "metadata": {},
   "outputs": [
    {
     "name": "stdout",
     "output_type": "stream",
     "text": [
      "3\n"
     ]
    },
    {
     "data": {
      "text/plain": [
       "28"
      ]
     },
     "execution_count": 17,
     "metadata": {},
     "output_type": "execute_result"
    }
   ],
   "source": [
    "# ES.2 Esercizio Arrivano altri 3 studenti; memorizzare questo dato in un'altra variabile.\n",
    "# Creare un'altra variabile ancora che conterrà la somma delle prime due, poi stamparla a video.\n",
    "Nuovi_studenti = 3\n",
    "print(Nuovi_studenti)\n",
    "Studenti + Nuovi_studenti"
   ]
  },
  {
   "cell_type": "code",
   "execution_count": 19,
   "id": "c9fc5d02-874c-4506-95cc-6352db14f3aa",
   "metadata": {},
   "outputs": [
    {
     "name": "stdout",
     "output_type": "stream",
     "text": [
      "Epicode\n"
     ]
    }
   ],
   "source": [
    "# ES.3 Esercizio Creare una variabile che contiene la stringa \"Epicode\", quindi stamparla a video.\n",
    "str = \"Epicode\" \n",
    "print(str)"
   ]
  },
  {
   "cell_type": "code",
   "execution_count": 21,
   "id": "deef280d-cf8b-4253-a6c0-d626b16e7b43",
   "metadata": {},
   "outputs": [
    {
     "name": "stdout",
     "output_type": "stream",
     "text": [
      "36\n"
     ]
    }
   ],
   "source": [
    "# ES.4 Esercizio Abbiamo la variabile: x = 10 Incrementarla di 2 e poi moltiplicarla per 3.\n",
    "x = 10\n",
    "x = x + 2\n",
    "x = x * 3\n",
    "print(x)"
   ]
  },
  {
   "cell_type": "code",
   "execution_count": 27,
   "id": "3b64706d-e438-4d8f-b771-d76fd827504b",
   "metadata": {},
   "outputs": [
    {
     "data": {
      "text/plain": [
       "(7, 5, 10, 4)"
      ]
     },
     "execution_count": 27,
     "metadata": {},
     "output_type": "execute_result"
    }
   ],
   "source": [
    "# ES.5 sercizio Creiamo le seguenti stringhe, e per ognuna di esse verifichiamone la lunghezza con la funzione len(): • str1 = \"Windows\" • str2 = \"Excel\" • str3 = \"Powerpoint\" • str4 = \"Word\"\n",
    "str1 = \"Windows\"\n",
    "str2 = \"Excel\"\n",
    "str3 = \"Powerpoint\"\n",
    "str4 = \"Word\"\n",
    "len(str1), len(str2), len(str3), len(str4)"
   ]
  },
  {
   "cell_type": "code",
   "execution_count": 29,
   "id": "1fbea96e-a086-4e7c-8509-d700b237af29",
   "metadata": {},
   "outputs": [
    {
     "name": "stdout",
     "output_type": "stream",
     "text": [
      "31536000\n"
     ]
    }
   ],
   "source": [
    "# ES.6 Esercizio Calcolare e stampare a video quanti secondi ci sono in un anno non bisestile.\n",
    "giorni = 365\n",
    "ore = 24\n",
    "minuti = 60\n",
    "secondi = 60\n",
    "tot_secondi = giorni * ore * minuti * secondi\n",
    "print(tot_secondi)"
   ]
  },
  {
   "cell_type": "code",
   "execution_count": 84,
   "id": "5ffb5faa-b68d-49d2-891a-911400ecc235",
   "metadata": {},
   "outputs": [
    {
     "name": "stdout",
     "output_type": "stream",
     "text": [
      "I am studyng Python\n"
     ]
    }
   ],
   "source": [
    "# ES.7 Esercizio Abbiamo la seguente stringa: my_string = \"I am studying Python\"\n",
    "# • Trasformarla in modo che tutti i caratteri siano maiuscoli (uppercase)\n",
    "# • Trasformarla in modo che tutti i caratteri siano minuscoli (lowercase)\n",
    "# • Sostituire la sottostringa \"Python\" con la stringa \"a lot\"\n",
    "# • Usare il metodo .strip(); cambia qualcosa? Perché?\n",
    "# • Usare il metodo .split() per trovare tutte le parole (token)\n",
    "my_string = \"I am studyng Python\"\n",
    "print(my_string)"
   ]
  },
  {
   "cell_type": "code",
   "execution_count": 86,
   "id": "15030a23-2762-471d-9031-9582372ca462",
   "metadata": {},
   "outputs": [
    {
     "data": {
      "text/plain": [
       "'I AM STUDYNG PYTHON'"
      ]
     },
     "execution_count": 86,
     "metadata": {},
     "output_type": "execute_result"
    }
   ],
   "source": [
    "my_string.upper()"
   ]
  },
  {
   "cell_type": "code",
   "execution_count": 88,
   "id": "94fc56aa-8922-427d-95db-5e83dd4af32c",
   "metadata": {},
   "outputs": [
    {
     "data": {
      "text/plain": [
       "'i am studyng python'"
      ]
     },
     "execution_count": 88,
     "metadata": {},
     "output_type": "execute_result"
    }
   ],
   "source": [
    "my_string.lower()"
   ]
  },
  {
   "cell_type": "code",
   "execution_count": 90,
   "id": "a667cf7e-64ca-42d9-a462-63b0b84fd132",
   "metadata": {},
   "outputs": [
    {
     "data": {
      "text/plain": [
       "'I am studyng a lot'"
      ]
     },
     "execution_count": 90,
     "metadata": {},
     "output_type": "execute_result"
    }
   ],
   "source": [
    "my_string.replace(\"Python\",\"a lot\")"
   ]
  },
  {
   "cell_type": "code",
   "execution_count": 92,
   "id": "f47c7f71-fd25-4727-b641-015017707320",
   "metadata": {},
   "outputs": [
    {
     "data": {
      "text/plain": [
       "'I am studyng Python'"
      ]
     },
     "execution_count": 92,
     "metadata": {},
     "output_type": "execute_result"
    }
   ],
   "source": [
    "my_string.strip()"
   ]
  },
  {
   "cell_type": "code",
   "execution_count": 94,
   "id": "435cb7f1-9600-45ed-9c1d-6c354830fdab",
   "metadata": {},
   "outputs": [
    {
     "data": {
      "text/plain": [
       "['I', 'am', 'studyng', 'Python']"
      ]
     },
     "execution_count": 94,
     "metadata": {},
     "output_type": "execute_result"
    }
   ],
   "source": [
    "my_string.split()"
   ]
  },
  {
   "cell_type": "code",
   "execution_count": 96,
   "id": "ca3460e1-844a-4d62-b97d-8d3f99348e8e",
   "metadata": {},
   "outputs": [
    {
     "name": "stdout",
     "output_type": "stream",
     "text": [
      "['Alex', 'Bob', 'Cindy', 'Dan', 'Emma', 'Faith', 'Grace', 'Henry']\n"
     ]
    }
   ],
   "source": [
    "# ES.8 Esercizio (1/2) Abbiamo due liste, una di studenti e una di corsi:\n",
    "studenti = [\"Alex\", \"Bob\", \"Cindy\", \"Dan\", \"Emma\", \"Faith\", \"Grace\", \"Henry\"]\n",
    "print(studenti)"
   ]
  },
  {
   "cell_type": "code",
   "execution_count": 98,
   "id": "13e84e14-de86-4614-ae2c-7de84d037e7c",
   "metadata": {},
   "outputs": [
    {
     "name": "stdout",
     "output_type": "stream",
     "text": [
      "['Cybersecurity', 'Data Analyst', 'Backend', 'Frontend', 'Data Analyst', 'Backend']\n"
     ]
    }
   ],
   "source": [
    "corsi = [\"Cybersecurity\", \"Data Analyst\", \"Backend\", \"Frontend\", \"Data Analyst\", \"Backend\"]\n",
    "print(corsi)"
   ]
  },
  {
   "cell_type": "code",
   "execution_count": 100,
   "id": "783618de-2e49-4122-8c5f-22c346bab265",
   "metadata": {},
   "outputs": [
    {
     "name": "stdout",
     "output_type": "stream",
     "text": [
      "['Cybersecurity', 'Data Analyst', 'Backend', 'Frontend', 'Data Analyst', 'Backend', 'Frontend']\n"
     ]
    }
   ],
   "source": [
    "# ES.9 Tenendo conto che i dati sono in corrispondenza posizionale, leggiamo con attenzione le due liste.\n",
    "# Sapendo che Emma segue Data Analyst Faith segue Backend Grace segue Frontend Henry segue Cybersecurity alla lista cui mancano dei dati,\n",
    "# aggiungiamo i dati mancanti uno alla volta con il metodo .append()\n",
    "corsi.append(\"Frontend\")\n",
    "print(corsi)"
   ]
  },
  {
   "cell_type": "code",
   "execution_count": 102,
   "id": "230d8b53-f86d-4134-bf88-817097df4268",
   "metadata": {},
   "outputs": [
    {
     "name": "stdout",
     "output_type": "stream",
     "text": [
      "['Cybersecurity', 'Data Analyst', 'Backend', 'Frontend', 'Data Analyst', 'Backend', 'Frontend', 'Cybersecurity']\n"
     ]
    }
   ],
   "source": [
    "corsi.append(\"Cybersecurity\")\n",
    "print(corsi)"
   ]
  }
 ],
 "metadata": {
  "kernelspec": {
   "display_name": "Python [conda env:base] *",
   "language": "python",
   "name": "conda-base-py"
  },
  "language_info": {
   "codemirror_mode": {
    "name": "ipython",
    "version": 3
   },
   "file_extension": ".py",
   "mimetype": "text/x-python",
   "name": "python",
   "nbconvert_exporter": "python",
   "pygments_lexer": "ipython3",
   "version": "3.12.7"
  }
 },
 "nbformat": 4,
 "nbformat_minor": 5
}
