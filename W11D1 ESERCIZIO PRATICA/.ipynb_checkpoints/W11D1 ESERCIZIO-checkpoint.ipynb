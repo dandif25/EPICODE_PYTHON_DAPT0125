{
 "cells": [
  {
   "cell_type": "raw",
   "id": "58378341-e068-4239-bb5c-f572b4e02693",
   "metadata": {},
   "source": [
    "ES.1 1/2 Andiamo su http://www.datiopen.it/it/opendata/Mappa_dei_pub_circoli_locali_in_Italia e scarichiamo il file (in formato CSV) della mappa dei pub, circoli e locali in Italia Nota: il dataset non ha un encoding UTF-8 ma Latin1; inoltre il separatore non è una virgola, ma un punto e virgola. Dunque per leggerlo dovremo aggiungere i parametri encoding= e sep=, ad esempio: pd.read_csv(file_path, encoding=\"latin1\", sep=\";\") 2 dove file_path è la posizione del file nel nostro calcolatore."
   ]
  },
  {
   "cell_type": "code",
   "execution_count": 5,
   "id": "c4ac3558-109f-4b8f-b25e-d59c7f4d50e1",
   "metadata": {},
   "outputs": [],
   "source": [
    "import pandas as pd\n",
    "file_path = \"C:/Users/UTENTE/Desktop/CORSO/Esercizi_PYTHON/dataset/datasets/altri_dataset/Mappa-dei-pub-circoli-locali-in-Italia.csv\"\n",
    "df = pd.read_csv(file_path, encoding=\"latin1\", sep=\";\")"
   ]
  },
  {
   "cell_type": "raw",
   "id": "27e2fcab-3a2f-4e13-ad84-0a17898ec4f3",
   "metadata": {},
   "source": [
    "ES.1 2/2 Esaminiamo il dataset:\n",
    "• quanti dati ci sono in totale?\n",
    "• quali sono i metadati?\n",
    "• stampiamo il primo elemento\n",
    "• stampiamo l'ultimo elemento\n",
    "• riusciamo a stampare un elemento a caso?\n",
    "• quali sono gli anni di inserimento presenti?\n",
    "• quante attività ci sono nel quadrato di longitudine 9-10 e latitudine 45-46?\n",
    "• quante attività ci sono nella provincia di Vicenza?\n",
    "• quante enoteche ci sono, e come si chiamano? 3\n",
    "• quante attività ci sono in Lazio e Abruzzo assieme?"
   ]
  },
  {
   "cell_type": "code",
   "execution_count": 15,
   "id": "f4b05c4f-c0b4-4559-8743-d6b52f0a22af",
   "metadata": {},
   "outputs": [
    {
     "data": {
      "text/plain": [
       "(2635, 9)"
      ]
     },
     "execution_count": 15,
     "metadata": {},
     "output_type": "execute_result"
    }
   ],
   "source": [
    "# Quanti dati ci sono in totale?\n",
    "df.shape"
   ]
  },
  {
   "cell_type": "code",
   "execution_count": 17,
   "id": "ba284ebc-ff16-432b-b576-838806550d8c",
   "metadata": {},
   "outputs": [
    {
     "data": {
      "text/plain": [
       "Index(['Comune', 'Provincia', 'Regione', 'Nome', 'Anno inserimento',\n",
       "       'Data e ora inserimento', 'Identificatore in OpenStreetMap',\n",
       "       'Longitudine', 'Latitudine'],\n",
       "      dtype='object')"
      ]
     },
     "execution_count": 17,
     "metadata": {},
     "output_type": "execute_result"
    }
   ],
   "source": [
    "# Quali sono i metedati?\n",
    "df.columns"
   ]
  },
  {
   "cell_type": "code",
   "execution_count": 23,
   "id": "1635b6df-58a1-4864-9f27-ee6c14078505",
   "metadata": {},
   "outputs": [
    {
     "data": {
      "text/plain": [
       "Comune                                            ALTRO\n",
       "Provincia                                         ALTRO\n",
       "Regione                                           ALTRO\n",
       "Nome                                                NaN\n",
       "Anno inserimento                                   2011\n",
       "Data e ora inserimento             2011-06-25T23:17:43Z\n",
       "Identificatore in OpenStreetMap              1339088150\n",
       "Longitudine                                   13.733257\n",
       "Latitudine                                     45.57583\n",
       "Name: 0, dtype: object"
      ]
     },
     "execution_count": 23,
     "metadata": {},
     "output_type": "execute_result"
    }
   ],
   "source": [
    "# Stampiamo il primo elemento\n",
    "df.iloc[0]"
   ]
  },
  {
   "cell_type": "code",
   "execution_count": 25,
   "id": "d8b56487-4f88-4336-870b-983d0d699623",
   "metadata": {},
   "outputs": [
    {
     "data": {
      "text/plain": [
       "Comune                                             TRANI\n",
       "Provincia                          BARLETTA-ANDRIA-TRANI\n",
       "Regione                                           Puglia\n",
       "Nome                                        Well's Fargo\n",
       "Anno inserimento                                    2009\n",
       "Data e ora inserimento              2009-08-10T12:44:03Z\n",
       "Identificatore in OpenStreetMap                387223648\n",
       "Longitudine                                    16.436765\n",
       "Latitudine                                     41.267264\n",
       "Name: 2634, dtype: object"
      ]
     },
     "execution_count": 25,
     "metadata": {},
     "output_type": "execute_result"
    }
   ],
   "source": [
    "# Stampiamo l'ultimo elemento\n",
    "df.iloc[-1]"
   ]
  },
  {
   "cell_type": "code",
   "execution_count": 29,
   "id": "16269d00-0a57-426f-a927-ab85c39891f7",
   "metadata": {},
   "outputs": [
    {
     "data": {
      "text/html": [
       "<div>\n",
       "<style scoped>\n",
       "    .dataframe tbody tr th:only-of-type {\n",
       "        vertical-align: middle;\n",
       "    }\n",
       "\n",
       "    .dataframe tbody tr th {\n",
       "        vertical-align: top;\n",
       "    }\n",
       "\n",
       "    .dataframe thead th {\n",
       "        text-align: right;\n",
       "    }\n",
       "</style>\n",
       "<table border=\"1\" class=\"dataframe\">\n",
       "  <thead>\n",
       "    <tr style=\"text-align: right;\">\n",
       "      <th></th>\n",
       "      <th>Comune</th>\n",
       "      <th>Provincia</th>\n",
       "      <th>Regione</th>\n",
       "      <th>Nome</th>\n",
       "      <th>Anno inserimento</th>\n",
       "      <th>Data e ora inserimento</th>\n",
       "      <th>Identificatore in OpenStreetMap</th>\n",
       "      <th>Longitudine</th>\n",
       "      <th>Latitudine</th>\n",
       "    </tr>\n",
       "  </thead>\n",
       "  <tbody>\n",
       "    <tr>\n",
       "      <th>91</th>\n",
       "      <td>SAN GERMANO VERCELLESE</td>\n",
       "      <td>VERCELLI</td>\n",
       "      <td>Piemonte</td>\n",
       "      <td>Albergo delle Miniere</td>\n",
       "      <td>2012</td>\n",
       "      <td>2012-07-28T14:54:03Z</td>\n",
       "      <td>1841428092</td>\n",
       "      <td>8.246670</td>\n",
       "      <td>45.349980</td>\n",
       "    </tr>\n",
       "    <tr>\n",
       "      <th>506</th>\n",
       "      <td>MILANO</td>\n",
       "      <td>CITTA' METROPOLITANA DI MILANO</td>\n",
       "      <td>Lombardia</td>\n",
       "      <td>Hemingway Café</td>\n",
       "      <td>2012</td>\n",
       "      <td>2012-11-26T08:24:07Z</td>\n",
       "      <td>2034349326</td>\n",
       "      <td>9.231591</td>\n",
       "      <td>45.485074</td>\n",
       "    </tr>\n",
       "    <tr>\n",
       "      <th>2499</th>\n",
       "      <td>GAGLIANICO</td>\n",
       "      <td>BIELLA</td>\n",
       "      <td>Piemonte</td>\n",
       "      <td>Wood Pub</td>\n",
       "      <td>2014</td>\n",
       "      <td>2014-03-04T14:33:36Z</td>\n",
       "      <td>2701336992</td>\n",
       "      <td>8.074982</td>\n",
       "      <td>45.532151</td>\n",
       "    </tr>\n",
       "  </tbody>\n",
       "</table>\n",
       "</div>"
      ],
      "text/plain": [
       "                      Comune                       Provincia    Regione  \\\n",
       "91    SAN GERMANO VERCELLESE                        VERCELLI   Piemonte   \n",
       "506                   MILANO  CITTA' METROPOLITANA DI MILANO  Lombardia   \n",
       "2499              GAGLIANICO                          BIELLA   Piemonte   \n",
       "\n",
       "                       Nome  Anno inserimento Data e ora inserimento  \\\n",
       "91    Albergo delle Miniere              2012   2012-07-28T14:54:03Z   \n",
       "506          Hemingway Café              2012   2012-11-26T08:24:07Z   \n",
       "2499               Wood Pub              2014   2014-03-04T14:33:36Z   \n",
       "\n",
       "      Identificatore in OpenStreetMap  Longitudine  Latitudine  \n",
       "91                         1841428092     8.246670   45.349980  \n",
       "506                        2034349326     9.231591   45.485074  \n",
       "2499                       2701336992     8.074982   45.532151  "
      ]
     },
     "execution_count": 29,
     "metadata": {},
     "output_type": "execute_result"
    }
   ],
   "source": [
    "# Stampiamo elemento a caso\n",
    "df.sample(3)"
   ]
  },
  {
   "cell_type": "code",
   "execution_count": 35,
   "id": "ed131e5b-77e9-4137-86ab-9b7a27ae770a",
   "metadata": {},
   "outputs": [
    {
     "data": {
      "text/plain": [
       "2190    2007\n",
       "1047    2008\n",
       "1254    2008\n",
       "833     2008\n",
       "809     2008\n",
       "        ... \n",
       "1471    2016\n",
       "1694    2016\n",
       "2036    2016\n",
       "1432    2016\n",
       "2174    2016\n",
       "Name: Anno inserimento, Length: 2635, dtype: int64"
      ]
     },
     "execution_count": 35,
     "metadata": {},
     "output_type": "execute_result"
    }
   ],
   "source": [
    "# Quali sono gli anni di inserimento presenti?\n",
    "df[\"Anno inserimento\"].sort_values()"
   ]
  },
  {
   "cell_type": "code",
   "execution_count": 51,
   "id": "b24b1d75-a6c4-465f-84de-5748ed4a46e1",
   "metadata": {},
   "outputs": [
    {
     "name": "stdout",
     "output_type": "stream",
     "text": [
      "attivi_lat_log : 15\n"
     ]
    }
   ],
   "source": [
    "# Quante attività ci sono nel quadrato di longitudine 9-10 e latitudine 45-46?\n",
    "filtro_lat_log = df[\n",
    "    df[\"Longitudine\"].between(9, 10) &\n",
    "    df[\"Latitudine\"].between(45, 46)\n",
    "]\n",
    "print(\"attivi_lat_log :\",len(\"filtro_lat_long\"))"
   ]
  },
  {
   "cell_type": "code",
   "execution_count": 55,
   "id": "137c97d7-c3ff-47fc-97c6-b3dad74b5548",
   "metadata": {},
   "outputs": [
    {
     "name": "stdout",
     "output_type": "stream",
     "text": [
      "Attività in provincia di Vicenza: 73\n"
     ]
    }
   ],
   "source": [
    "# Quante attività ci sono nella provincia di Vicenza?\n",
    "filtro = df[df[\"Provincia\"] == \"VICENZA\"]\n",
    "print(\"Attività in provincia di Vicenza:\",len (filtro))"
   ]
  },
  {
   "cell_type": "code",
   "execution_count": 61,
   "id": "1bb574f6-be89-4389-83fe-58f936a69a17",
   "metadata": {},
   "outputs": [
    {
     "name": "stdout",
     "output_type": "stream",
     "text": [
      "Numero di enoteche: 6\n",
      "Nomi delle enoteche: ['Enoteca con Cucina\"\"Tirolin\"\"' 'Concordia Enoteca' 'Enoteca Umberto'\n",
      " 'Enoteca \"\"Al Brindisi\"\"' 'Enoteca \"\"da Massimo\"\"'\n",
      " 'Enoteca Il Violino Rosso']\n"
     ]
    }
   ],
   "source": [
    "# Quante enoteche ci sono, e come si chiamano?\n",
    "enoteche = df[df[\"Nome\"].str.contains(\"enoteca\", case = False, na = False)]\n",
    "print(\"Numero di enoteche:\",len(enoteche))\n",
    "print(\"Nomi delle enoteche:\",enoteche[\"Nome\"].unique())"
   ]
  },
  {
   "cell_type": "code",
   "execution_count": 67,
   "id": "99573954-e0a0-419c-b0c5-ff74c547df95",
   "metadata": {},
   "outputs": [
    {
     "name": "stdout",
     "output_type": "stream",
     "text": [
      "Provincia\n",
      "FERRARA                           2\n",
      "CITTA' METROPOLITANA DI TORINO    1\n",
      "CITTA' METROPOLITANA DI MILANO    1\n",
      "VICENZA                           1\n",
      "PISA                              1\n",
      "Name: count, dtype: int64\n"
     ]
    }
   ],
   "source": [
    "print(enoteche[\"Provincia\"].value_counts()) # quantità di enoteche"
   ]
  },
  {
   "cell_type": "code",
   "execution_count": 88,
   "id": "81b6c36b-9ab0-48a0-8418-2c3fdd06cbec",
   "metadata": {},
   "outputs": [
    {
     "name": "stdout",
     "output_type": "stream",
     "text": [
      "Attività in Lazio e Abruzzo:\n",
      " Abruzzo     48\n",
      "Lazio      289\n",
      "Totale     337\n",
      "dtype: int64\n"
     ]
    }
   ],
   "source": [
    "# Quante attività ci sono in Lazio e in Abruzzo assieme?\n",
    "filtro_lazio_abruzzo = df[df[\"Regione\"].isin([\"Lazio\", \"Abruzzo\"])]\n",
    "res = filtro.groupby(\"Regione\").size()\n",
    "res = pd.concat([res, pd.Series({\"Totale\": res.sum()})])\n",
    "print(\"Attività in Lazio e Abruzzo:\\n\",res)"
   ]
  },
  {
   "cell_type": "raw",
   "id": "05d2fd13-2789-494f-9c0e-abcc318adc69",
   "metadata": {},
   "source": [
    "ES.2 Il dataset insurance.csv dei beginner_datasets contiene dati su caratteristiche e abitudini delle persone rispetto ai costi individuali per le cure mediche come premio per le assicurazioni sulla salute.\n",
    "• Visualizziamone le dimensioni, un'anteprima, e osserviamo i nomi di colonna;\n",
    "• Quali sono le medie di charges rispetto a region? Ci sono differenze significative?\n",
    "• E rispetto a smoker? E a sex?\n",
    "• Quali sono i descrittori statistici di bmi? Quali sono minimo, media e massimo di charges rispetto ai diversi quartili dei valori di bmi? Nota: è lo stesso esercizio della volta scorsa, ma stavolta da eseguire con il metodo .groupby()"
   ]
  },
  {
   "cell_type": "code",
   "execution_count": 95,
   "id": "99037566-9386-4ecb-ae6b-dcb387002d0c",
   "metadata": {},
   "outputs": [
    {
     "data": {
      "text/plain": [
       "Index(['age', 'sex', 'bmi', 'children', 'smoker', 'region', 'charges'], dtype='object')"
      ]
     },
     "execution_count": 95,
     "metadata": {},
     "output_type": "execute_result"
    }
   ],
   "source": [
    "df_insurace = pd.read_csv(\"C:/Users/UTENTE/Desktop/CORSO/Esercizi_PYTHON/dataset/datasets/beginner_datasets/insurance.csv\")\n",
    "# Visualizziamone le dimensioni, un'anteprima, e osserviamo i nomi di colonna;\n",
    "df_insurace.columns"
   ]
  },
  {
   "cell_type": "code",
   "execution_count": 105,
   "id": "dd67ecbf-ddb7-49d4-8da9-dfb0d267fcd0",
   "metadata": {},
   "outputs": [
    {
     "data": {
      "text/plain": [
       "region\n",
       "northeast    13406.0\n",
       "northwest    12418.0\n",
       "southeast    14735.0\n",
       "southwest    12347.0\n",
       "Name: charges, dtype: float64"
      ]
     },
     "execution_count": 105,
     "metadata": {},
     "output_type": "execute_result"
    }
   ],
   "source": [
    "# Quali sono le medie di charges rispetto a region? Ci sono differenze significative?\n",
    "df_insurace.groupby(\"region\")[\"charges\"].mean().round()"
   ]
  },
  {
   "cell_type": "code",
   "execution_count": 109,
   "id": "67ad70af-cd51-4fc2-b5e2-ae99b18a762b",
   "metadata": {},
   "outputs": [
    {
     "data": {
      "text/html": [
       "<div>\n",
       "<style scoped>\n",
       "    .dataframe tbody tr th:only-of-type {\n",
       "        vertical-align: middle;\n",
       "    }\n",
       "\n",
       "    .dataframe tbody tr th {\n",
       "        vertical-align: top;\n",
       "    }\n",
       "\n",
       "    .dataframe thead th {\n",
       "        text-align: right;\n",
       "    }\n",
       "</style>\n",
       "<table border=\"1\" class=\"dataframe\">\n",
       "  <thead>\n",
       "    <tr style=\"text-align: right;\">\n",
       "      <th></th>\n",
       "      <th>mean</th>\n",
       "      <th>count</th>\n",
       "      <th>sum</th>\n",
       "    </tr>\n",
       "    <tr>\n",
       "      <th>smoker</th>\n",
       "      <th></th>\n",
       "      <th></th>\n",
       "      <th></th>\n",
       "    </tr>\n",
       "  </thead>\n",
       "  <tbody>\n",
       "    <tr>\n",
       "      <th>no</th>\n",
       "      <td>8434.268298</td>\n",
       "      <td>1064</td>\n",
       "      <td>8.974061e+06</td>\n",
       "    </tr>\n",
       "    <tr>\n",
       "      <th>yes</th>\n",
       "      <td>32050.231832</td>\n",
       "      <td>274</td>\n",
       "      <td>8.781764e+06</td>\n",
       "    </tr>\n",
       "  </tbody>\n",
       "</table>\n",
       "</div>"
      ],
      "text/plain": [
       "                mean  count           sum\n",
       "smoker                                   \n",
       "no       8434.268298   1064  8.974061e+06\n",
       "yes     32050.231832    274  8.781764e+06"
      ]
     },
     "execution_count": 109,
     "metadata": {},
     "output_type": "execute_result"
    }
   ],
   "source": [
    "# E rispetto a smoker? E a sex?\n",
    "df_insurace.groupby(\"smoker\")[\"charges\"].agg([\"mean\", \"count\", \"sum\"])"
   ]
  },
  {
   "cell_type": "code",
   "execution_count": 122,
   "id": "504e5e0e-dcc9-46ba-a9db-b3b986a0bf9c",
   "metadata": {},
   "outputs": [
    {
     "name": "stdout",
     "output_type": "stream",
     "text": [
      "Descrittori statistici di BMI:\n",
      "count    1338.000000\n",
      "mean       30.663397\n",
      "std         6.098187\n",
      "min        15.960000\n",
      "25%        26.296250\n",
      "50%        30.400000\n",
      "75%        34.693750\n",
      "max        53.130000\n",
      "Name: bmi, dtype: float64\n",
      "\n",
      "Min, media e max di 'charges' per quartili di BMI:\n"
     ]
    }
   ],
   "source": [
    "# Quali sono i descrittori statistici di bmi? Quali sono minimo, media e massimo di charges rispetto ai diversi quartili dei valori di bmi?\n",
    "print(\"Descrittori statistici di BMI:\")\n",
    "print(descrittori_bmi) \n",
    "risultato = df_insurace.groupby('bmi')['charges'].agg(['min', 'mean', 'max'])\n",
    "\n",
    "print(\"\\nMin, media e max di 'charges' per quartili di BMI:\")"
   ]
  },
  {
   "cell_type": "raw",
   "id": "5e81e9cc-7489-40ac-b99e-37bb9f09871f",
   "metadata": {},
   "source": [
    "ES.3 Carichiamo in un DataFrame il dataset iris.csv dei beginner_datasets e calcoliamo:\n",
    "• La media della lunghezza dei petali di tutto il dataset \n",
    "• La media della lunghezza dei petali per ogni specie di Iris, utilizzando il metodo .groupby()\n",
    "• Media, minimo e massimo della larghezza dei sepali per ogni specie, utilizzando .groupby() e .agg()"
   ]
  },
  {
   "cell_type": "code",
   "execution_count": 124,
   "id": "2be6d73b-86a5-49e6-9c04-230d20a16cae",
   "metadata": {},
   "outputs": [
    {
     "data": {
      "text/plain": [
       "Index(['sepal_length', 'sepal_width', 'petal_length', 'petal_width',\n",
       "       'species'],\n",
       "      dtype='object')"
      ]
     },
     "execution_count": 124,
     "metadata": {},
     "output_type": "execute_result"
    }
   ],
   "source": [
    "df_iris = pd.read_csv(\"C:/Users/UTENTE/Desktop/CORSO/Esercizi_PYTHON/dataset/datasets/beginner_datasets/iris.csv\")\n",
    "df_iris.columns"
   ]
  },
  {
   "cell_type": "code",
   "execution_count": 126,
   "id": "4ebdcfef-f4ff-4c66-8391-de641ed10b64",
   "metadata": {},
   "outputs": [
    {
     "data": {
      "text/plain": [
       "(150, 5)"
      ]
     },
     "execution_count": 126,
     "metadata": {},
     "output_type": "execute_result"
    }
   ],
   "source": [
    "df_iris.shape"
   ]
  },
  {
   "cell_type": "code",
   "execution_count": 128,
   "id": "f688ade7-d290-40c3-8fe7-087f0306e920",
   "metadata": {},
   "outputs": [
    {
     "data": {
      "text/plain": [
       "sepal_length    float64\n",
       "sepal_width     float64\n",
       "petal_length    float64\n",
       "petal_width     float64\n",
       "species          object\n",
       "dtype: object"
      ]
     },
     "execution_count": 128,
     "metadata": {},
     "output_type": "execute_result"
    }
   ],
   "source": [
    "df_iris.dtypes"
   ]
  },
  {
   "cell_type": "code",
   "execution_count": 130,
   "id": "41019e89-c00e-4140-96b6-8d3737132ff6",
   "metadata": {},
   "outputs": [
    {
     "data": {
      "text/plain": [
       "3.758666666666666"
      ]
     },
     "execution_count": 130,
     "metadata": {},
     "output_type": "execute_result"
    }
   ],
   "source": [
    "# La media della lunghezza dei petali di tutto il dataset\n",
    "df_iris[\"petal_length\"].mean()"
   ]
  },
  {
   "cell_type": "code",
   "execution_count": 136,
   "id": "7a4fc757-9045-45b3-ab7e-d4857b490b28",
   "metadata": {},
   "outputs": [
    {
     "data": {
      "text/plain": [
       "species\n",
       "Iris-setosa        1.464\n",
       "Iris-versicolor    4.260\n",
       "Iris-virginica     5.552\n",
       "Name: petal_length, dtype: float64"
      ]
     },
     "execution_count": 136,
     "metadata": {},
     "output_type": "execute_result"
    }
   ],
   "source": [
    "# La media della lunghezza dei petali per ogni specie di Iris, utilizzando il metodo .groupby()\n",
    "df_iris.groupby(\"species\")[\"petal_length\"].mean()"
   ]
  },
  {
   "cell_type": "code",
   "execution_count": 138,
   "id": "4000d99e-59cf-49cd-a4ee-b321b0b17817",
   "metadata": {},
   "outputs": [
    {
     "data": {
      "text/html": [
       "<div>\n",
       "<style scoped>\n",
       "    .dataframe tbody tr th:only-of-type {\n",
       "        vertical-align: middle;\n",
       "    }\n",
       "\n",
       "    .dataframe tbody tr th {\n",
       "        vertical-align: top;\n",
       "    }\n",
       "\n",
       "    .dataframe thead th {\n",
       "        text-align: right;\n",
       "    }\n",
       "</style>\n",
       "<table border=\"1\" class=\"dataframe\">\n",
       "  <thead>\n",
       "    <tr style=\"text-align: right;\">\n",
       "      <th></th>\n",
       "      <th>mean</th>\n",
       "      <th>min</th>\n",
       "      <th>max</th>\n",
       "    </tr>\n",
       "    <tr>\n",
       "      <th>species</th>\n",
       "      <th></th>\n",
       "      <th></th>\n",
       "      <th></th>\n",
       "    </tr>\n",
       "  </thead>\n",
       "  <tbody>\n",
       "    <tr>\n",
       "      <th>Iris-setosa</th>\n",
       "      <td>3.418</td>\n",
       "      <td>2.3</td>\n",
       "      <td>4.4</td>\n",
       "    </tr>\n",
       "    <tr>\n",
       "      <th>Iris-versicolor</th>\n",
       "      <td>2.770</td>\n",
       "      <td>2.0</td>\n",
       "      <td>3.4</td>\n",
       "    </tr>\n",
       "    <tr>\n",
       "      <th>Iris-virginica</th>\n",
       "      <td>2.974</td>\n",
       "      <td>2.2</td>\n",
       "      <td>3.8</td>\n",
       "    </tr>\n",
       "  </tbody>\n",
       "</table>\n",
       "</div>"
      ],
      "text/plain": [
       "                  mean  min  max\n",
       "species                         \n",
       "Iris-setosa      3.418  2.3  4.4\n",
       "Iris-versicolor  2.770  2.0  3.4\n",
       "Iris-virginica   2.974  2.2  3.8"
      ]
     },
     "execution_count": 138,
     "metadata": {},
     "output_type": "execute_result"
    }
   ],
   "source": [
    "# Media, minimo e massimo della larghezza dei sepali per ogni specie, utilizzando .groupby() e .agg()\n",
    "df_iris.groupby(\"species\")[\"sepal_width\"].agg([\"mean\", \"min\", \"max\"])"
   ]
  },
  {
   "cell_type": "raw",
   "id": "d5b86ae4-9633-4827-a14b-596286166edc",
   "metadata": {},
   "source": [
    "ES.4 Esercizio Nei beginner_datasets, il dataset wine.csv contiene delle analisi organolettiche su diverse qualità di vini:\n",
    "• Qual è la media di concentrazione alcolica per ogni qualità? Ci sono differenze? E rispetto alla media totale?\n",
    "• C'è differenza nella concentrazione alcolica per vini bianchi e vini rossi?\n",
    "• Rifacendo le analisi dei due punti precedenti ma per il pH, cambia qualcosa?\n",
    "• E per i solfati?"
   ]
  },
  {
   "cell_type": "code",
   "execution_count": 78,
   "id": "3c55b55f-102a-40f2-a7c5-fa8a265cd54c",
   "metadata": {},
   "outputs": [
    {
     "data": {
      "text/plain": [
       "Index(['fixed acidity', 'volatile acidity', 'citric acid', 'residual sugar',\n",
       "       'chlorides', 'free sulfur dioxide', 'total sulfur dioxide', 'density',\n",
       "       'pH', 'sulphates', 'alcohol', 'quality', 'type'],\n",
       "      dtype='object')"
      ]
     },
     "execution_count": 78,
     "metadata": {},
     "output_type": "execute_result"
    }
   ],
   "source": [
    "import pandas as pd\n",
    "df_wine = pd.read_csv(\"C:/Users/UTENTE/Desktop/CORSO/Esercizi_PYTHON/dataset/datasets/beginner_datasets/wine.csv\")\n",
    "df_wine.columns"
   ]
  },
  {
   "cell_type": "code",
   "execution_count": 80,
   "id": "2d314fcd-a5c6-462b-ba12-dbd9824037c0",
   "metadata": {},
   "outputs": [
    {
     "data": {
      "text/plain": [
       "(6497, 13)"
      ]
     },
     "execution_count": 80,
     "metadata": {},
     "output_type": "execute_result"
    }
   ],
   "source": [
    "df_wine.shape"
   ]
  },
  {
   "cell_type": "code",
   "execution_count": 82,
   "id": "edd861e1-afb9-41f1-adca-ebbd09fa441e",
   "metadata": {},
   "outputs": [
    {
     "data": {
      "text/plain": [
       "fixed acidity           float64\n",
       "volatile acidity        float64\n",
       "citric acid             float64\n",
       "residual sugar          float64\n",
       "chlorides               float64\n",
       "free sulfur dioxide     float64\n",
       "total sulfur dioxide    float64\n",
       "density                 float64\n",
       "pH                      float64\n",
       "sulphates               float64\n",
       "alcohol                 float64\n",
       "quality                   int64\n",
       "type                     object\n",
       "dtype: object"
      ]
     },
     "execution_count": 82,
     "metadata": {},
     "output_type": "execute_result"
    }
   ],
   "source": [
    "df_wine.dtypes"
   ]
  },
  {
   "cell_type": "code",
   "execution_count": 84,
   "id": "e41e5342-1d66-4ee5-9574-af300cba26c2",
   "metadata": {},
   "outputs": [
    {
     "data": {
      "text/plain": [
       "quality\n",
       "3    10.22\n",
       "4    10.18\n",
       "5     9.84\n",
       "6    10.59\n",
       "7    11.39\n",
       "8    11.68\n",
       "9    12.18\n",
       "Name: alcohol, dtype: float64"
      ]
     },
     "execution_count": 84,
     "metadata": {},
     "output_type": "execute_result"
    }
   ],
   "source": [
    "# Qual è la media di concentrazione alcolica per ogni qualità? Ci sono differenze? E rispetto alla media totale?\n",
    "df_wine.groupby(\"quality\")[\"alcohol\"].mean().round(2)"
   ]
  },
  {
   "cell_type": "code",
   "execution_count": 86,
   "id": "6151071c-46f3-4f0e-ac83-20289085e425",
   "metadata": {},
   "outputs": [
    {
     "name": "stdout",
     "output_type": "stream",
     "text": [
      "Media: 10.49\n"
     ]
    },
    {
     "data": {
      "text/plain": [
       "quality\n",
       "3    10.22\n",
       "4    10.18\n",
       "5     9.84\n",
       "6    10.59\n",
       "7    11.39\n",
       "8    11.68\n",
       "9    12.18\n",
       "Name: alcohol, dtype: float64"
      ]
     },
     "execution_count": 86,
     "metadata": {},
     "output_type": "execute_result"
    }
   ],
   "source": [
    "print(\"Media:\", df_wine[\"alcohol\"].mean().round(2))\n",
    "df_wine.groupby(\"quality\")[\"alcohol\"].mean().round(2)"
   ]
  },
  {
   "cell_type": "code",
   "execution_count": 88,
   "id": "ae23e124-9d11-4518-9041-6dfdbc83e9fd",
   "metadata": {},
   "outputs": [
    {
     "data": {
      "text/plain": [
       "type\n",
       "red      10.42\n",
       "white    10.51\n",
       "Name: alcohol, dtype: float64"
      ]
     },
     "execution_count": 88,
     "metadata": {},
     "output_type": "execute_result"
    }
   ],
   "source": [
    "# C'è differenza nella concentrazione alcolica per vini bianchi e vini rossi?\n",
    "df_wine.groupby(\"type\")[\"alcohol\"].mean().round(2)"
   ]
  },
  {
   "cell_type": "code",
   "execution_count": 90,
   "id": "ccdeccf6-3a42-431c-8d02-41615632be3e",
   "metadata": {},
   "outputs": [
    {
     "data": {
      "text/plain": [
       "quality\n",
       "3    3.26\n",
       "4    3.23\n",
       "5    3.21\n",
       "6    3.22\n",
       "7    3.23\n",
       "8    3.22\n",
       "9    3.31\n",
       "Name: pH, dtype: float64"
      ]
     },
     "execution_count": 90,
     "metadata": {},
     "output_type": "execute_result"
    }
   ],
   "source": [
    "# Rifacendo le analisi dei due punti precedenti ma per il pH, cambia qualcosa?\n",
    "df_wine.groupby(\"quality\")[\"pH\"].mean().round(2)"
   ]
  },
  {
   "cell_type": "code",
   "execution_count": 92,
   "id": "3ffa7078-9689-43c5-9924-dadb87ef6ce4",
   "metadata": {},
   "outputs": [
    {
     "name": "stdout",
     "output_type": "stream",
     "text": [
      "media: alcohol      10.49\n",
      "sulphates     0.53\n",
      "pH            3.22\n",
      "dtype: float64\n",
      "         alcohol  sulphates    pH\n",
      "quality                          \n",
      "3          10.22       0.51  3.26\n",
      "4          10.18       0.51  3.23\n",
      "5           9.84       0.53  3.21\n",
      "6          10.59       0.53  3.22\n",
      "7          11.39       0.55  3.23\n",
      "8          11.68       0.51  3.22\n",
      "9          12.18       0.47  3.31\n"
     ]
    }
   ],
   "source": [
    "# E per i solfati?\n",
    "df_wine2_total = df_wine[[\"alcohol\", \"sulphates\", \"pH\"]].mean().round(2)\n",
    "df_wine2 = df_wine.groupby(\"quality\")[[\"alcohol\",\"sulphates\", \"pH\"]].mean().round(2)\n",
    "print(\"media:\", df_wine2_total)\n",
    "print(df_wine2)"
   ]
  },
  {
   "cell_type": "raw",
   "id": "b8afa5a7-a2bb-407a-8ab4-f05423bc20e7",
   "metadata": {},
   "source": [
    "ES.5 1/3 Nei beginner_datasets, il file boston.csv contiene il Boston Housing Dataset, che deriva dalle informazioni raccolte dal Census Service degli Stati Uniti sulle abitazioni nell'area di Boston.\n",
    "Di seguito vengono descritte le colonne del dataset:\n",
    "• CRIM -tasso di criminalità pro capite per città\n",
    "• ZN - proporzione di terreni residenziali suddivisi in zone per lotti superiori a 25.000 piedi quadrati.\n",
    "• INDUS - percentuale di acri di attività commerciali non al dettaglio per città.\n",
    "• CHAS -variabile dummy del fiume Charles (1 se il tratto costeggia il fiume; 0 altrimenti)"
   ]
  },
  {
   "cell_type": "code",
   "execution_count": 94,
   "id": "165d465e-b86d-4667-8185-ad8b0739f819",
   "metadata": {},
   "outputs": [],
   "source": [
    "df_boston = pd.read_csv(\"C:/Users/UTENTE/Desktop/CORSO/Esercizi_PYTHON/dataset/datasets/beginner_datasets/boston.csv\")"
   ]
  },
  {
   "cell_type": "code",
   "execution_count": 96,
   "id": "73d640b0-fe25-4b8b-bca8-a913a5b825e0",
   "metadata": {},
   "outputs": [
    {
     "data": {
      "text/html": [
       "<div>\n",
       "<style scoped>\n",
       "    .dataframe tbody tr th:only-of-type {\n",
       "        vertical-align: middle;\n",
       "    }\n",
       "\n",
       "    .dataframe tbody tr th {\n",
       "        vertical-align: top;\n",
       "    }\n",
       "\n",
       "    .dataframe thead th {\n",
       "        text-align: right;\n",
       "    }\n",
       "</style>\n",
       "<table border=\"1\" class=\"dataframe\">\n",
       "  <thead>\n",
       "    <tr style=\"text-align: right;\">\n",
       "      <th></th>\n",
       "      <th>crim</th>\n",
       "      <th>zn</th>\n",
       "      <th>indus</th>\n",
       "      <th>chas</th>\n",
       "    </tr>\n",
       "  </thead>\n",
       "  <tbody>\n",
       "    <tr>\n",
       "      <th>count</th>\n",
       "      <td>506.00</td>\n",
       "      <td>506.00</td>\n",
       "      <td>506.00</td>\n",
       "      <td>506.00</td>\n",
       "    </tr>\n",
       "    <tr>\n",
       "      <th>mean</th>\n",
       "      <td>3.61</td>\n",
       "      <td>11.36</td>\n",
       "      <td>11.14</td>\n",
       "      <td>0.07</td>\n",
       "    </tr>\n",
       "    <tr>\n",
       "      <th>std</th>\n",
       "      <td>8.60</td>\n",
       "      <td>23.32</td>\n",
       "      <td>6.86</td>\n",
       "      <td>0.25</td>\n",
       "    </tr>\n",
       "    <tr>\n",
       "      <th>min</th>\n",
       "      <td>0.01</td>\n",
       "      <td>0.00</td>\n",
       "      <td>0.46</td>\n",
       "      <td>0.00</td>\n",
       "    </tr>\n",
       "    <tr>\n",
       "      <th>25%</th>\n",
       "      <td>0.08</td>\n",
       "      <td>0.00</td>\n",
       "      <td>5.19</td>\n",
       "      <td>0.00</td>\n",
       "    </tr>\n",
       "    <tr>\n",
       "      <th>50%</th>\n",
       "      <td>0.26</td>\n",
       "      <td>0.00</td>\n",
       "      <td>9.69</td>\n",
       "      <td>0.00</td>\n",
       "    </tr>\n",
       "    <tr>\n",
       "      <th>75%</th>\n",
       "      <td>3.68</td>\n",
       "      <td>12.50</td>\n",
       "      <td>18.10</td>\n",
       "      <td>0.00</td>\n",
       "    </tr>\n",
       "    <tr>\n",
       "      <th>max</th>\n",
       "      <td>88.98</td>\n",
       "      <td>100.00</td>\n",
       "      <td>27.74</td>\n",
       "      <td>1.00</td>\n",
       "    </tr>\n",
       "  </tbody>\n",
       "</table>\n",
       "</div>"
      ],
      "text/plain": [
       "         crim      zn   indus    chas\n",
       "count  506.00  506.00  506.00  506.00\n",
       "mean     3.61   11.36   11.14    0.07\n",
       "std      8.60   23.32    6.86    0.25\n",
       "min      0.01    0.00    0.46    0.00\n",
       "25%      0.08    0.00    5.19    0.00\n",
       "50%      0.26    0.00    9.69    0.00\n",
       "75%      3.68   12.50   18.10    0.00\n",
       "max     88.98  100.00   27.74    1.00"
      ]
     },
     "execution_count": 96,
     "metadata": {},
     "output_type": "execute_result"
    }
   ],
   "source": [
    "df_boston[[\"crim\", \"zn\", \"indus\", \"chas\"]].describe().round(2)"
   ]
  },
  {
   "cell_type": "code",
   "execution_count": 98,
   "id": "c3e2e9d8-8563-49ae-9f5b-90546b766e99",
   "metadata": {},
   "outputs": [
    {
     "data": {
      "text/plain": [
       "chas\n",
       "0    471\n",
       "1     35\n",
       "Name: count, dtype: int64"
      ]
     },
     "execution_count": 98,
     "metadata": {},
     "output_type": "execute_result"
    }
   ],
   "source": [
    "df_boston[\"chas\"].value_counts()"
   ]
  },
  {
   "cell_type": "raw",
   "id": "4fae3e95-69e7-42b8-aeba-e482e0dd3a74",
   "metadata": {},
   "source": [
    "ES.5 2/3\n",
    "• NOX -concentrazione di ossidi di azoto (parti per 10 milioni).\n",
    "• RM -numero medio di stanze per abitazione \n",
    "• AGE -proporzione di unità abitative occupate da proprietari costruite prima del 1940 \n",
    "• DIS - distanze ponderate da cinque centri occupazionali di Boston \n",
    "• RAD -indice di accessibilità alle autostrade radiali \n",
    "• TAX -aliquota dell'imposta fondiaria sul valore pieno per 10.000 dollari \n",
    "• PTRATIO - rapporto alunni-insegnanti per città \n",
    "• BLACK -la percentuale di neri per città \n",
    "• LSTAT - % di popolazione di condizione più bassa 8 \n",
    "• MEDV -Valore mediano delle case, espresso in migliaia di dollari"
   ]
  },
  {
   "cell_type": "code",
   "execution_count": 108,
   "id": "d5384989-56b4-4818-9d17-3ae44e989dc7",
   "metadata": {},
   "outputs": [
    {
     "data": {
      "text/html": [
       "<div>\n",
       "<style scoped>\n",
       "    .dataframe tbody tr th:only-of-type {\n",
       "        vertical-align: middle;\n",
       "    }\n",
       "\n",
       "    .dataframe tbody tr th {\n",
       "        vertical-align: top;\n",
       "    }\n",
       "\n",
       "    .dataframe thead th {\n",
       "        text-align: right;\n",
       "    }\n",
       "</style>\n",
       "<table border=\"1\" class=\"dataframe\">\n",
       "  <thead>\n",
       "    <tr style=\"text-align: right;\">\n",
       "      <th></th>\n",
       "      <th>nox</th>\n",
       "      <th>rm</th>\n",
       "      <th>age</th>\n",
       "      <th>dis</th>\n",
       "      <th>rad</th>\n",
       "      <th>tax</th>\n",
       "      <th>ptratio</th>\n",
       "      <th>black</th>\n",
       "      <th>lstat</th>\n",
       "      <th>medv</th>\n",
       "    </tr>\n",
       "  </thead>\n",
       "  <tbody>\n",
       "    <tr>\n",
       "      <th>count</th>\n",
       "      <td>506.00</td>\n",
       "      <td>506.00</td>\n",
       "      <td>506.00</td>\n",
       "      <td>506.00</td>\n",
       "      <td>506.00</td>\n",
       "      <td>506.00</td>\n",
       "      <td>506.00</td>\n",
       "      <td>506.00</td>\n",
       "      <td>506.00</td>\n",
       "      <td>506.00</td>\n",
       "    </tr>\n",
       "    <tr>\n",
       "      <th>mean</th>\n",
       "      <td>0.55</td>\n",
       "      <td>6.28</td>\n",
       "      <td>68.57</td>\n",
       "      <td>3.80</td>\n",
       "      <td>9.55</td>\n",
       "      <td>408.24</td>\n",
       "      <td>18.46</td>\n",
       "      <td>356.67</td>\n",
       "      <td>12.65</td>\n",
       "      <td>22.53</td>\n",
       "    </tr>\n",
       "    <tr>\n",
       "      <th>std</th>\n",
       "      <td>0.12</td>\n",
       "      <td>0.70</td>\n",
       "      <td>28.15</td>\n",
       "      <td>2.11</td>\n",
       "      <td>8.71</td>\n",
       "      <td>168.54</td>\n",
       "      <td>2.16</td>\n",
       "      <td>91.29</td>\n",
       "      <td>7.14</td>\n",
       "      <td>9.20</td>\n",
       "    </tr>\n",
       "    <tr>\n",
       "      <th>min</th>\n",
       "      <td>0.38</td>\n",
       "      <td>3.56</td>\n",
       "      <td>2.90</td>\n",
       "      <td>1.13</td>\n",
       "      <td>1.00</td>\n",
       "      <td>187.00</td>\n",
       "      <td>12.60</td>\n",
       "      <td>0.32</td>\n",
       "      <td>1.73</td>\n",
       "      <td>5.00</td>\n",
       "    </tr>\n",
       "    <tr>\n",
       "      <th>25%</th>\n",
       "      <td>0.45</td>\n",
       "      <td>5.89</td>\n",
       "      <td>45.02</td>\n",
       "      <td>2.10</td>\n",
       "      <td>4.00</td>\n",
       "      <td>279.00</td>\n",
       "      <td>17.40</td>\n",
       "      <td>375.38</td>\n",
       "      <td>6.95</td>\n",
       "      <td>17.02</td>\n",
       "    </tr>\n",
       "    <tr>\n",
       "      <th>50%</th>\n",
       "      <td>0.54</td>\n",
       "      <td>6.21</td>\n",
       "      <td>77.50</td>\n",
       "      <td>3.21</td>\n",
       "      <td>5.00</td>\n",
       "      <td>330.00</td>\n",
       "      <td>19.05</td>\n",
       "      <td>391.44</td>\n",
       "      <td>11.36</td>\n",
       "      <td>21.20</td>\n",
       "    </tr>\n",
       "    <tr>\n",
       "      <th>75%</th>\n",
       "      <td>0.62</td>\n",
       "      <td>6.62</td>\n",
       "      <td>94.07</td>\n",
       "      <td>5.19</td>\n",
       "      <td>24.00</td>\n",
       "      <td>666.00</td>\n",
       "      <td>20.20</td>\n",
       "      <td>396.22</td>\n",
       "      <td>16.96</td>\n",
       "      <td>25.00</td>\n",
       "    </tr>\n",
       "    <tr>\n",
       "      <th>max</th>\n",
       "      <td>0.87</td>\n",
       "      <td>8.78</td>\n",
       "      <td>100.00</td>\n",
       "      <td>12.13</td>\n",
       "      <td>24.00</td>\n",
       "      <td>711.00</td>\n",
       "      <td>22.00</td>\n",
       "      <td>396.90</td>\n",
       "      <td>37.97</td>\n",
       "      <td>50.00</td>\n",
       "    </tr>\n",
       "  </tbody>\n",
       "</table>\n",
       "</div>"
      ],
      "text/plain": [
       "          nox      rm     age     dis     rad     tax  ptratio   black  \\\n",
       "count  506.00  506.00  506.00  506.00  506.00  506.00   506.00  506.00   \n",
       "mean     0.55    6.28   68.57    3.80    9.55  408.24    18.46  356.67   \n",
       "std      0.12    0.70   28.15    2.11    8.71  168.54     2.16   91.29   \n",
       "min      0.38    3.56    2.90    1.13    1.00  187.00    12.60    0.32   \n",
       "25%      0.45    5.89   45.02    2.10    4.00  279.00    17.40  375.38   \n",
       "50%      0.54    6.21   77.50    3.21    5.00  330.00    19.05  391.44   \n",
       "75%      0.62    6.62   94.07    5.19   24.00  666.00    20.20  396.22   \n",
       "max      0.87    8.78  100.00   12.13   24.00  711.00    22.00  396.90   \n",
       "\n",
       "        lstat    medv  \n",
       "count  506.00  506.00  \n",
       "mean    12.65   22.53  \n",
       "std      7.14    9.20  \n",
       "min      1.73    5.00  \n",
       "25%      6.95   17.02  \n",
       "50%     11.36   21.20  \n",
       "75%     16.96   25.00  \n",
       "max     37.97   50.00  "
      ]
     },
     "execution_count": 108,
     "metadata": {},
     "output_type": "execute_result"
    }
   ],
   "source": [
    "df_boston[[\"nox\", \"rm\", \"age\", \"dis\", \"rad\", \"tax\", \"ptratio\", \"black\", \"lstat\", \"medv\"]].describe().round(2)"
   ]
  },
  {
   "cell_type": "code",
   "execution_count": 112,
   "id": "482e2899-4b3b-4fbc-8ca0-89b29c1567d7",
   "metadata": {},
   "outputs": [
    {
     "data": {
      "text/plain": [
       "chas\n",
       "0    471\n",
       "1     35\n",
       "Name: count, dtype: int64"
      ]
     },
     "execution_count": 112,
     "metadata": {},
     "output_type": "execute_result"
    }
   ],
   "source": [
    "df_boston[\"chas\"].value_counts()"
   ]
  },
  {
   "cell_type": "raw",
   "id": "6d52732c-fae1-4920-a677-160d4ea86331",
   "metadata": {},
   "source": [
    "ES.5 3/3 \n",
    "• La media del prezzo delle case cambia a seconda della distanza dal fiume Charles? \n",
    "• Si nota una correlazione tra il tasso di criminalità e il valore delle abitazioni? Come si può spiegare il risultato?\n",
    "• Qual è la media del numero di stanze rispetto al rapporto alunni-insegnanti? E del valore delle case? Appare esserci una qualche correlazione? Come si può spiegare il risultato? \n",
    "• Rispetto all'accessibilità alle autostrade, cambia qualcosa la media delle età delle abitazioni? E del numero di stanze? E delle tasse?"
   ]
  },
  {
   "cell_type": "code",
   "execution_count": 114,
   "id": "ddcd3f10-ade3-4ba9-9854-d77b5c10a780",
   "metadata": {},
   "outputs": [
    {
     "data": {
      "text/plain": [
       "chas\n",
       "0    22.09\n",
       "1    28.44\n",
       "Name: medv, dtype: float64"
      ]
     },
     "execution_count": 114,
     "metadata": {},
     "output_type": "execute_result"
    }
   ],
   "source": [
    "# La media del prezzo delle case cambia a seconda della distanza dal fiume Charles?\n",
    "df_boston.groupby(\"chas\")[\"medv\"].mean().round(2)"
   ]
  },
  {
   "cell_type": "code",
   "execution_count": 118,
   "id": "1a23c26d-c458-4a38-96ec-313913fe3446",
   "metadata": {},
   "outputs": [
    {
     "data": {
      "text/html": [
       "<div>\n",
       "<style scoped>\n",
       "    .dataframe tbody tr th:only-of-type {\n",
       "        vertical-align: middle;\n",
       "    }\n",
       "\n",
       "    .dataframe tbody tr th {\n",
       "        vertical-align: top;\n",
       "    }\n",
       "\n",
       "    .dataframe thead th {\n",
       "        text-align: right;\n",
       "    }\n",
       "</style>\n",
       "<table border=\"1\" class=\"dataframe\">\n",
       "  <thead>\n",
       "    <tr style=\"text-align: right;\">\n",
       "      <th></th>\n",
       "      <th>crim</th>\n",
       "      <th>medv</th>\n",
       "    </tr>\n",
       "  </thead>\n",
       "  <tbody>\n",
       "    <tr>\n",
       "      <th>crim</th>\n",
       "      <td>1.000000</td>\n",
       "      <td>-0.388305</td>\n",
       "    </tr>\n",
       "    <tr>\n",
       "      <th>medv</th>\n",
       "      <td>-0.388305</td>\n",
       "      <td>1.000000</td>\n",
       "    </tr>\n",
       "  </tbody>\n",
       "</table>\n",
       "</div>"
      ],
      "text/plain": [
       "          crim      medv\n",
       "crim  1.000000 -0.388305\n",
       "medv -0.388305  1.000000"
      ]
     },
     "execution_count": 118,
     "metadata": {},
     "output_type": "execute_result"
    }
   ],
   "source": [
    "# Si nota una correlazione tra il tasso di criminalità e il valore delle abitazioni? Come si può spiegare il risultato?\n",
    "df_boston[[\"crim\", \"medv\"]].corr()"
   ]
  },
  {
   "cell_type": "code",
   "execution_count": 136,
   "id": "dd90b0b2-e310-40fa-8369-0e1b73ec9e18",
   "metadata": {},
   "outputs": [
    {
     "name": "stderr",
     "output_type": "stream",
     "text": [
      "C:\\Users\\UTENTE\\AppData\\Local\\Temp\\ipykernel_11000\\148374924.py:3: FutureWarning: The default of observed=False is deprecated and will be changed to True in a future version of pandas. Pass observed=False to retain current behavior or observed=True to adopt the future default and silence this warning.\n",
      "  df_boston.groupby(\"medv_q\")[[\"crim\"]].mean().round(2)\n"
     ]
    },
    {
     "data": {
      "text/html": [
       "<div>\n",
       "<style scoped>\n",
       "    .dataframe tbody tr th:only-of-type {\n",
       "        vertical-align: middle;\n",
       "    }\n",
       "\n",
       "    .dataframe tbody tr th {\n",
       "        vertical-align: top;\n",
       "    }\n",
       "\n",
       "    .dataframe thead th {\n",
       "        text-align: right;\n",
       "    }\n",
       "</style>\n",
       "<table border=\"1\" class=\"dataframe\">\n",
       "  <thead>\n",
       "    <tr style=\"text-align: right;\">\n",
       "      <th></th>\n",
       "      <th>crim</th>\n",
       "    </tr>\n",
       "    <tr>\n",
       "      <th>medv_q</th>\n",
       "      <th></th>\n",
       "    </tr>\n",
       "  </thead>\n",
       "  <tbody>\n",
       "    <tr>\n",
       "      <th>(4.999, 12.75]</th>\n",
       "      <td>18.64</td>\n",
       "    </tr>\n",
       "    <tr>\n",
       "      <th>(12.75, 15.3]</th>\n",
       "      <td>6.84</td>\n",
       "    </tr>\n",
       "    <tr>\n",
       "      <th>(15.3, 18.2]</th>\n",
       "      <td>3.45</td>\n",
       "    </tr>\n",
       "    <tr>\n",
       "      <th>(18.2, 19.7]</th>\n",
       "      <td>1.21</td>\n",
       "    </tr>\n",
       "    <tr>\n",
       "      <th>(19.7, 21.2]</th>\n",
       "      <td>1.36</td>\n",
       "    </tr>\n",
       "    <tr>\n",
       "      <th>(21.2, 22.7]</th>\n",
       "      <td>1.18</td>\n",
       "    </tr>\n",
       "    <tr>\n",
       "      <th>(22.7, 24.15]</th>\n",
       "      <td>0.94</td>\n",
       "    </tr>\n",
       "    <tr>\n",
       "      <th>(24.15, 28.2]</th>\n",
       "      <td>1.05</td>\n",
       "    </tr>\n",
       "    <tr>\n",
       "      <th>(28.2, 34.8]</th>\n",
       "      <td>0.25</td>\n",
       "    </tr>\n",
       "    <tr>\n",
       "      <th>(34.8, 50.0]</th>\n",
       "      <td>1.00</td>\n",
       "    </tr>\n",
       "  </tbody>\n",
       "</table>\n",
       "</div>"
      ],
      "text/plain": [
       "                 crim\n",
       "medv_q               \n",
       "(4.999, 12.75]  18.64\n",
       "(12.75, 15.3]    6.84\n",
       "(15.3, 18.2]     3.45\n",
       "(18.2, 19.7]     1.21\n",
       "(19.7, 21.2]     1.36\n",
       "(21.2, 22.7]     1.18\n",
       "(22.7, 24.15]    0.94\n",
       "(24.15, 28.2]    1.05\n",
       "(28.2, 34.8]     0.25\n",
       "(34.8, 50.0]     1.00"
      ]
     },
     "execution_count": 136,
     "metadata": {},
     "output_type": "execute_result"
    }
   ],
   "source": [
    " # Qual è la media del numero di stanze rispetto al rapporto alunni-insegnanti? E del valore delle case? Appare esserci una qualche correlazione? Come si può spiegare il risultato?\n",
    "df_boston[\"medv_q\"] = pd.qcut(df_boston[\"medv\"],10)\n",
    "df_boston.groupby(\"medv_q\")[[\"crim\"]].mean().round(2)"
   ]
  },
  {
   "cell_type": "code",
   "execution_count": 138,
   "id": "33849566-11c7-4bbd-8fcd-3572462be92b",
   "metadata": {},
   "outputs": [
    {
     "data": {
      "text/html": [
       "<div>\n",
       "<style scoped>\n",
       "    .dataframe tbody tr th:only-of-type {\n",
       "        vertical-align: middle;\n",
       "    }\n",
       "\n",
       "    .dataframe tbody tr th {\n",
       "        vertical-align: top;\n",
       "    }\n",
       "\n",
       "    .dataframe thead th {\n",
       "        text-align: right;\n",
       "    }\n",
       "</style>\n",
       "<table border=\"1\" class=\"dataframe\">\n",
       "  <thead>\n",
       "    <tr style=\"text-align: right;\">\n",
       "      <th></th>\n",
       "      <th>age</th>\n",
       "      <th>rm</th>\n",
       "      <th>tax</th>\n",
       "    </tr>\n",
       "    <tr>\n",
       "      <th>rad</th>\n",
       "      <th></th>\n",
       "      <th></th>\n",
       "      <th></th>\n",
       "    </tr>\n",
       "  </thead>\n",
       "  <tbody>\n",
       "    <tr>\n",
       "      <th>1</th>\n",
       "      <td>45.02</td>\n",
       "      <td>6.56</td>\n",
       "      <td>291.45</td>\n",
       "    </tr>\n",
       "    <tr>\n",
       "      <th>2</th>\n",
       "      <td>64.77</td>\n",
       "      <td>6.65</td>\n",
       "      <td>260.67</td>\n",
       "    </tr>\n",
       "    <tr>\n",
       "      <th>3</th>\n",
       "      <td>49.31</td>\n",
       "      <td>6.47</td>\n",
       "      <td>246.08</td>\n",
       "    </tr>\n",
       "    <tr>\n",
       "      <th>4</th>\n",
       "      <td>60.84</td>\n",
       "      <td>6.13</td>\n",
       "      <td>335.98</td>\n",
       "    </tr>\n",
       "    <tr>\n",
       "      <th>5</th>\n",
       "      <td>69.22</td>\n",
       "      <td>6.39</td>\n",
       "      <td>331.84</td>\n",
       "    </tr>\n",
       "    <tr>\n",
       "      <th>6</th>\n",
       "      <td>60.14</td>\n",
       "      <td>6.10</td>\n",
       "      <td>372.88</td>\n",
       "    </tr>\n",
       "    <tr>\n",
       "      <th>7</th>\n",
       "      <td>40.14</td>\n",
       "      <td>6.65</td>\n",
       "      <td>304.41</td>\n",
       "    </tr>\n",
       "    <tr>\n",
       "      <th>8</th>\n",
       "      <td>67.35</td>\n",
       "      <td>6.95</td>\n",
       "      <td>301.25</td>\n",
       "    </tr>\n",
       "    <tr>\n",
       "      <th>24</th>\n",
       "      <td>89.81</td>\n",
       "      <td>6.02</td>\n",
       "      <td>666.00</td>\n",
       "    </tr>\n",
       "  </tbody>\n",
       "</table>\n",
       "</div>"
      ],
      "text/plain": [
       "       age    rm     tax\n",
       "rad                     \n",
       "1    45.02  6.56  291.45\n",
       "2    64.77  6.65  260.67\n",
       "3    49.31  6.47  246.08\n",
       "4    60.84  6.13  335.98\n",
       "5    69.22  6.39  331.84\n",
       "6    60.14  6.10  372.88\n",
       "7    40.14  6.65  304.41\n",
       "8    67.35  6.95  301.25\n",
       "24   89.81  6.02  666.00"
      ]
     },
     "execution_count": 138,
     "metadata": {},
     "output_type": "execute_result"
    }
   ],
   "source": [
    "# Rispetto all'accessibilità alle autostrade, cambia qualcosa la media delle età delle abitazioni? E del numero di stanze? E delle tasse?\n",
    "df_boston.groupby(\"rad\")[[\"age\", \"rm\", \"tax\"]].mean().round(2)"
   ]
  },
  {
   "cell_type": "raw",
   "id": "f574ee2f-b125-4c36-bc75-1a483dcc4084",
   "metadata": {},
   "source": [
    "ES.6 1/3 Abbiamo un DataFrame di dipendenti:"
   ]
  },
  {
   "cell_type": "code",
   "execution_count": 146,
   "id": "cf9ec7a0-29b7-4c6d-8bd0-323f4230e406",
   "metadata": {},
   "outputs": [],
   "source": [
    "employees_df = pd.DataFrame(\n",
    "    { 'employee_id': [101, 102, 103, 104, 105], \n",
    "     'name': ['Alice', 'Bob', 'Charlie', 'David', 'Emma'], \n",
    "     'department_id': [1, 2, 1, 2, 3] })"
   ]
  },
  {
   "cell_type": "raw",
   "id": "cfde3dce-367b-4dad-a3c4-5d9cfa785484",
   "metadata": {},
   "source": [
    "ES.6 2/3 E un DataFrame di dipartimenti:"
   ]
  },
  {
   "cell_type": "code",
   "execution_count": 148,
   "id": "1ee4b2d8-9be9-4eb5-a24a-96ead94511e1",
   "metadata": {},
   "outputs": [],
   "source": [
    "departments_df = pd.DataFrame(\n",
    "    { 'department_id': [1, 2, 3], \n",
    "     'department_name': ['HR', 'IT', 'Finance'], \n",
    "     'location': ['New York', 'San Francisco', 'Chicago'] })"
   ]
  },
  {
   "cell_type": "raw",
   "id": "3614c6d1-31ec-4c90-a8de-da0e980cc10d",
   "metadata": {},
   "source": [
    "ES.6 3/3 Unire questi DataFrame in base alla colonna comune department_id, in modo da avere nel risultato informazioni sia sui dipendenti che sui dipartimenti, usando la funzione .merge() \n",
    "• Per ogni DataFrame, trasformare la colonna department_id nell'indice, facendo in modo che la modifica sia permanente; poi unire i due dataset mediante il metodo .join() \n",
    "• Ci sono differenze nel risultato? Quali? Perché?"
   ]
  },
  {
   "cell_type": "code",
   "execution_count": 150,
   "id": "493f6bde-e4b6-4863-a73e-6f34d5c6caad",
   "metadata": {},
   "outputs": [
    {
     "data": {
      "text/html": [
       "<div>\n",
       "<style scoped>\n",
       "    .dataframe tbody tr th:only-of-type {\n",
       "        vertical-align: middle;\n",
       "    }\n",
       "\n",
       "    .dataframe tbody tr th {\n",
       "        vertical-align: top;\n",
       "    }\n",
       "\n",
       "    .dataframe thead th {\n",
       "        text-align: right;\n",
       "    }\n",
       "</style>\n",
       "<table border=\"1\" class=\"dataframe\">\n",
       "  <thead>\n",
       "    <tr style=\"text-align: right;\">\n",
       "      <th></th>\n",
       "      <th>employee_id</th>\n",
       "      <th>name</th>\n",
       "      <th>department_id</th>\n",
       "      <th>department_name</th>\n",
       "      <th>location</th>\n",
       "    </tr>\n",
       "  </thead>\n",
       "  <tbody>\n",
       "    <tr>\n",
       "      <th>0</th>\n",
       "      <td>101</td>\n",
       "      <td>Alice</td>\n",
       "      <td>1</td>\n",
       "      <td>HR</td>\n",
       "      <td>New York</td>\n",
       "    </tr>\n",
       "    <tr>\n",
       "      <th>1</th>\n",
       "      <td>102</td>\n",
       "      <td>Bob</td>\n",
       "      <td>2</td>\n",
       "      <td>IT</td>\n",
       "      <td>San Francisco</td>\n",
       "    </tr>\n",
       "    <tr>\n",
       "      <th>2</th>\n",
       "      <td>103</td>\n",
       "      <td>Charlie</td>\n",
       "      <td>1</td>\n",
       "      <td>HR</td>\n",
       "      <td>New York</td>\n",
       "    </tr>\n",
       "    <tr>\n",
       "      <th>3</th>\n",
       "      <td>104</td>\n",
       "      <td>David</td>\n",
       "      <td>2</td>\n",
       "      <td>IT</td>\n",
       "      <td>San Francisco</td>\n",
       "    </tr>\n",
       "    <tr>\n",
       "      <th>4</th>\n",
       "      <td>105</td>\n",
       "      <td>Emma</td>\n",
       "      <td>3</td>\n",
       "      <td>Finance</td>\n",
       "      <td>Chicago</td>\n",
       "    </tr>\n",
       "  </tbody>\n",
       "</table>\n",
       "</div>"
      ],
      "text/plain": [
       "   employee_id     name  department_id department_name       location\n",
       "0          101    Alice              1              HR       New York\n",
       "1          102      Bob              2              IT  San Francisco\n",
       "2          103  Charlie              1              HR       New York\n",
       "3          104    David              2              IT  San Francisco\n",
       "4          105     Emma              3         Finance        Chicago"
      ]
     },
     "execution_count": 150,
     "metadata": {},
     "output_type": "execute_result"
    }
   ],
   "source": [
    "employees_departments_merge = employees_df.merge(\n",
    "        departments_df, how = \"inner\", on = \"department_id\")\n",
    "employees_departments_merge"
   ]
  },
  {
   "cell_type": "code",
   "execution_count": 168,
   "id": "fdfaab39-4b99-4d91-ae1e-c7beea90a0ec",
   "metadata": {},
   "outputs": [
    {
     "ename": "KeyError",
     "evalue": "\"None of ['department_id'] are in the columns\"",
     "output_type": "error",
     "traceback": [
      "\u001b[1;31m---------------------------------------------------------------------------\u001b[0m",
      "\u001b[1;31mKeyError\u001b[0m                                  Traceback (most recent call last)",
      "\u001b[1;32m~\\AppData\\Local\\Temp\\ipykernel_11000\\1745904251.py\u001b[0m in \u001b[0;36m?\u001b[1;34m()\u001b[0m\n\u001b[1;32m----> 1\u001b[1;33m \u001b[0memployees_df\u001b[0m \u001b[1;33m=\u001b[0m \u001b[0memployees_df\u001b[0m\u001b[1;33m.\u001b[0m\u001b[0mset_index\u001b[0m\u001b[1;33m(\u001b[0m\u001b[1;34m\"department_id\"\u001b[0m\u001b[1;33m)\u001b[0m\u001b[1;33m\u001b[0m\u001b[1;33m\u001b[0m\u001b[0m\n\u001b[0m\u001b[0;32m      2\u001b[0m \u001b[0mdepartments_df\u001b[0m \u001b[1;33m=\u001b[0m \u001b[0mdepartments_df\u001b[0m\u001b[1;33m.\u001b[0m\u001b[0mset_index\u001b[0m\u001b[1;33m(\u001b[0m\u001b[1;34m\"department_id\"\u001b[0m\u001b[1;33m)\u001b[0m\u001b[1;33m\u001b[0m\u001b[1;33m\u001b[0m\u001b[0m\n\u001b[0;32m      3\u001b[0m employees_departments_join = employees_df.join(\n\u001b[0;32m      4\u001b[0m     \u001b[0mdepartment_df\u001b[0m\u001b[1;33m,\u001b[0m \u001b[0mon\u001b[0m\u001b[1;33m=\u001b[0m\u001b[1;34m\"department_id\"\u001b[0m\u001b[1;33m,\u001b[0m \u001b[0mhow\u001b[0m\u001b[1;33m=\u001b[0m\u001b[1;34m\"inner\"\u001b[0m\u001b[1;33m\u001b[0m\u001b[1;33m\u001b[0m\u001b[0m\n",
      "\u001b[1;32m~\\anaconda3\\Lib\\site-packages\\pandas\\core\\frame.py\u001b[0m in \u001b[0;36m?\u001b[1;34m(self, keys, drop, append, inplace, verify_integrity)\u001b[0m\n\u001b[0;32m   6118\u001b[0m                     \u001b[1;32mif\u001b[0m \u001b[1;32mnot\u001b[0m \u001b[0mfound\u001b[0m\u001b[1;33m:\u001b[0m\u001b[1;33m\u001b[0m\u001b[1;33m\u001b[0m\u001b[0m\n\u001b[0;32m   6119\u001b[0m                         \u001b[0mmissing\u001b[0m\u001b[1;33m.\u001b[0m\u001b[0mappend\u001b[0m\u001b[1;33m(\u001b[0m\u001b[0mcol\u001b[0m\u001b[1;33m)\u001b[0m\u001b[1;33m\u001b[0m\u001b[1;33m\u001b[0m\u001b[0m\n\u001b[0;32m   6120\u001b[0m \u001b[1;33m\u001b[0m\u001b[0m\n\u001b[0;32m   6121\u001b[0m         \u001b[1;32mif\u001b[0m \u001b[0mmissing\u001b[0m\u001b[1;33m:\u001b[0m\u001b[1;33m\u001b[0m\u001b[1;33m\u001b[0m\u001b[0m\n\u001b[1;32m-> 6122\u001b[1;33m             \u001b[1;32mraise\u001b[0m \u001b[0mKeyError\u001b[0m\u001b[1;33m(\u001b[0m\u001b[1;33mf\"\u001b[0m\u001b[1;33mNone of \u001b[0m\u001b[1;33m{\u001b[0m\u001b[0mmissing\u001b[0m\u001b[1;33m}\u001b[0m\u001b[1;33m are in the columns\u001b[0m\u001b[1;33m\"\u001b[0m\u001b[1;33m)\u001b[0m\u001b[1;33m\u001b[0m\u001b[1;33m\u001b[0m\u001b[0m\n\u001b[0m\u001b[0;32m   6123\u001b[0m \u001b[1;33m\u001b[0m\u001b[0m\n\u001b[0;32m   6124\u001b[0m         \u001b[1;32mif\u001b[0m \u001b[0minplace\u001b[0m\u001b[1;33m:\u001b[0m\u001b[1;33m\u001b[0m\u001b[1;33m\u001b[0m\u001b[0m\n\u001b[0;32m   6125\u001b[0m             \u001b[0mframe\u001b[0m \u001b[1;33m=\u001b[0m \u001b[0mself\u001b[0m\u001b[1;33m\u001b[0m\u001b[1;33m\u001b[0m\u001b[0m\n",
      "\u001b[1;31mKeyError\u001b[0m: \"None of ['department_id'] are in the columns\""
     ]
    }
   ],
   "source": [
    "employees_df = employees_df.set_index(\"department_id\")\n",
    "departments_df = departments_df.set_index(\"department_id\")\n",
    "employees_departments_join = employees_df.join(\n",
    "    department_df, on=\"department_id\", how=\"inner\"\n",
    ")\n",
    "employees_departments_join"
   ]
  },
  {
   "cell_type": "code",
   "execution_count": null,
   "id": "3e2b063b-360c-4b8b-a743-3756d6eed987",
   "metadata": {},
   "outputs": [],
   "source": []
  }
 ],
 "metadata": {
  "kernelspec": {
   "display_name": "Python [conda env:base] *",
   "language": "python",
   "name": "conda-base-py"
  },
  "language_info": {
   "codemirror_mode": {
    "name": "ipython",
    "version": 3
   },
   "file_extension": ".py",
   "mimetype": "text/x-python",
   "name": "python",
   "nbconvert_exporter": "python",
   "pygments_lexer": "ipython3",
   "version": "3.12.7"
  }
 },
 "nbformat": 4,
 "nbformat_minor": 5
}
